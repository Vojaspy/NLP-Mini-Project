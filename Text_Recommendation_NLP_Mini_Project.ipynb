{
  "nbformat": 4,
  "nbformat_minor": 0,
  "metadata": {
    "colab": {
      "provenance": [],
      "include_colab_link": true
    },
    "kernelspec": {
      "name": "python3",
      "display_name": "Python 3"
    },
    "language_info": {
      "name": "python"
    }
  },
  "cells": [
    {
      "cell_type": "markdown",
      "metadata": {
        "id": "view-in-github",
        "colab_type": "text"
      },
      "source": [
        "<a href=\"https://colab.research.google.com/github/Vojaspy/NLP-Mini-Project/blob/master/Text_Recommendation_NLP_Mini_Project.ipynb\" target=\"_parent\"><img src=\"https://colab.research.google.com/assets/colab-badge.svg\" alt=\"Open In Colab\"/></a>"
      ]
    },
    {
      "cell_type": "code",
      "source": [
        "import nltk\n",
        "import random"
      ],
      "metadata": {
        "id": "5_mIFS9qP1HF"
      },
      "execution_count": null,
      "outputs": []
    },
    {
      "cell_type": "code",
      "source": [
        "nltk.download('punkt')"
      ],
      "metadata": {
        "id": "-wc-QJfgLX6r",
        "colab": {
          "base_uri": "https://localhost:8080/"
        },
        "outputId": "04cc8b06-96f7-4e93-f6c8-c827f46ef5e1"
      },
      "execution_count": null,
      "outputs": [
        {
          "output_type": "stream",
          "name": "stderr",
          "text": [
            "[nltk_data] Downloading package punkt to /root/nltk_data...\n",
            "[nltk_data]   Package punkt is already up-to-date!\n"
          ]
        },
        {
          "output_type": "execute_result",
          "data": {
            "text/plain": [
              "True"
            ]
          },
          "metadata": {},
          "execution_count": 106
        }
      ]
    },
    {
      "cell_type": "code",
      "source": [
        "corpus = [\n",
        "    'Ronaldo became the first person in the world to reach 500 million followers across Facebook, Instagram, and Twitter.',\n",
        "    'In March 2021, he passed Brazilian legend Pele\\'s goal tally.',\n",
        "    'He switched teams in August 2021, moving from Juventus to Manchester United where he previously played from 2003 to 2009.',\n",
        "    'Ronaldo, a five-time FIFA player of the year in 2020, became the first active team-sport athlete to surpass 1 billion in career earnings.',\n",
        "    'In addition to a lifetime deal with Nike, Ronaldo makes money off the pitch with his CR7-branded clothing, accessories, hotels, and gyms.',\n",
        "    'He began his professional career with Sporting CP at age 17 in 2002.',\n",
        "    'At one point, he was the most expensive professional footballer of all time.',\n",
        "    'Cristiano Ronaldo is widely regarded as one of the greatest footballers of all time.',\n",
        "    'He has won numerous trophies throughout his career, including multiple league titles and UEFA Champions League titles.',\n",
        "    'Ronaldo has represented his national team, Portugal, in multiple FIFA World Cups and UEFA European Championships.',\n",
        "    'He is known for his incredible athleticism, skill, and goal-scoring ability.',\n",
        "    'Off the pitch, Ronaldo is involved in various charitable activities and has donated significant amounts to causes such as children\\'s hospitals and disaster relief efforts.',\n",
        "    'He is also a prominent figure in the world of fashion and has his own line of clothing and fragrances.',\n",
        "    'Ronaldos work ethic and dedication to his sport have earned him admiration from fans and fellow athletes alike.',\n",
        "    'He continues to compete at the highest level well into his thirties, demonstrating his enduring talent and commitment to excellence.',\n",
        "    'Cristiano Ronaldos transfer to Manchester United in 2021 was met with great excitement from fans around the world.',\n",
        "    'He quickly reestablished himself as one of the top players in the English Premier League, scoring goals and leading his team to victories.',\n",
        "    'Ronaldos impact on and off the field extends beyond football, as he is also a global icon and influencer.',\n",
        "    'His social media following is one of the largest of any athlete, with millions of fans eagerly following his every move.',\n",
        "    'In interviews, Ronaldo has spoken about his passion for the game and his desire to continue playing at the highest level for as long as possible.',\n",
        "    'He credits his success to hard work, dedication, and a relentless pursuit of excellence.',\n",
        "    'Despite facing criticism and adversity throughout his career, Ronaldo has remained focused on achieving his goals and proving his doubters wrong.',\n",
        "    'His resilience and determination have inspired countless athletes and fans around the world.',\n",
        "    'Ronaldos impact on the sport of football cannot be overstated, as he has set numerous records and achieved unparalleled success at both the club and international levels.',\n",
        "    'He has won multiple Ballon d\\'Or awards, recognizing him as the best player in the world.',\n",
        "    'Ronaldos competitive spirit and desire to win have driven him to new heights throughout his career.',\n",
        "    'He thrives under pressure and has a knack for delivering in big moments.',\n",
        "    'Ronaldos influence extends beyond the football pitch, as he is also a successful businessman and philanthropist.',\n",
        "    'He has invested in various ventures, including hotels, restaurants, and media companies.',\n",
        "    'Ronaldo charity work has had a positive impact on countless lives, as he continues to give back to those in need.',\n",
        "    'He is actively involved in initiatives aimed at improving education, healthcare, and social welfare around the world.',\n",
        "    'Ronaldo legacy as one of the greatest footballers of all time is secure, as he has left an indelible mark on the sport and inspired generations of athletes to follow in his footsteps.',\n",
        "    'His dedication to his craft and his commitment to excellence have set him apart as a true legend of the game.',\n",
        "    'Ronaldo journey to success has been filled with challenges and obstacles, but he has overcome them with determination and perseverance.',\n",
        "    'He has proven time and again that with hard work and belief in oneself, anything is possible.',\n",
        "    'Ronaldo passion for football is evident in everything he does, from his training regimen to his performances on the pitch.',\n",
        "    'He approaches each game with the same level of intensity and focus, always striving to be the best.',\n",
        "    'Ronaldo impact on the sport will be felt for generations to come, as his influence extends far beyond his playing career.',\n",
        "    'He has inspired millions of fans around the world with his incredible talent and relentless pursuit of greatness.',\n",
        "    'Ronaldosuccess is a testament to his work ethic, determination, and unwavering belief in his abilities.',\n",
        "    'He has overcome numerous obstacles to reach the pinnacle of his sport, earning the respect and admiration of fans, teammates, and opponents alike.',\n",
        "    'Ronaldo journey from humble beginnings to global superstardom is a story of perseverance, dedication, and passion.',\n",
        "    'He has achieved success beyond his wildest dreams, yet he remains grounded and humble, never forgetting where he came from.',\n",
        "    'Ronaldo impact on the game of football is undeniable, as he has redefined what it means to be a true champion.',\n",
        "    'His legacy will live on for years to come, inspiring future generations of athletes to chase their dreams and never give up.',\n",
        "    'Ronaldo story serves as a reminder that with hard work, determination, and belief in oneself, anything is possible.',\n",
        "    'His journey from a young boy kicking a ball in the streets of Madeira to a global icon and sporting legend is truly remarkable.',\n",
        "    'Ronaldo achievements on the pitch speak for themselves, but it is his character, resilience, and leadership that truly set him apart.',\n",
        "    'He is not just a footballer; he is a role model, an inspiration, and a symbol of hope for millions around the world.',\n",
        "    'Ronaldo impact extends beyond the world of sport, as he uses his platform to advocate for positive change and make a difference in the lives of others.',\n",
        "    'He is committed to leaving a lasting legacy both on and off the field, using his influence for the greater good.',\n",
        "    'Ronaldos dedication to his craft and his relentless pursuit of excellence have earned him the admiration and respect of fans, teammates, and opponents alike.',\n",
        "    'He is a true competitor, always striving to be the best and pushing himself to new heights.',\n",
        "    'Ronaldos passion for the game is unmatched, and his love for football shines through in everything he does.',\n",
        "    'He has dedicated his life to the sport, sacrificing time with family and friends to pursue his dreams.',\n",
        "    'Ronaldos work ethic is second to none, and he is constantly seeking ways to improve and evolve as a player.',\n",
        "    'He is a true professional, always putting the team first and leading by example both on and off the pitch.',\n",
        "    'Ronaldos impact on the game of football is immeasurable, as he has inspired millions of people around the world with his incredible talent and relentless determination.',\n",
        "    'He is more than just a footballer; he is a global icon, a symbol of excellence, and a role model for aspiring athletes everywhere.'\n",
        "]\n"
      ],
      "metadata": {
        "id": "5Y3E5bvWA554"
      },
      "execution_count": null,
      "outputs": []
    },
    {
      "cell_type": "code",
      "source": [
        "corpus = [\n",
        "    \"Space, the final frontier, has always fascinated humanity with its vastness and mysteries.\",\n",
        "    \"The study of space, also known as astronomy, encompasses everything beyond Earth's atmosphere, including stars, planets, galaxies, and more.\",\n",
        "    \"Space exploration has been a monumental endeavor for humanity, pushing the boundaries of our understanding and technological capabilities.\",\n",
        "    \"The first human to journey into space was Yuri Gagarin, a Soviet cosmonaut, who orbited the Earth aboard Vostok 1 on April 12, 1961.\",\n",
        "    \"Since then, space agencies from around the world, including NASA, ESA, Roscosmos, and others, have sent astronauts and spacecraft to explore the cosmos.\",\n",
        "    \"The Apollo missions, notably Apollo 11, landed the first humans on the Moon in 1969, with Neil Armstrong and Buzz Aldrin taking historic steps on its surface.\",\n",
        "    \"Space telescopes, such as the Hubble Space Telescope, have revolutionized our understanding of the universe by capturing breathtaking images of distant galaxies and nebulae.\",\n",
        "    \"The International Space Station (ISS) serves as a collaborative space laboratory where astronauts conduct experiments in microgravity.\",\n",
        "    \"Mars has been a focal point for space exploration, with numerous missions sent to study its surface and search for signs of past or present life.\",\n",
        "    \"The search for extraterrestrial life, or astrobiology, is a fundamental question in space exploration, with missions like the Mars rovers seeking answers.\",\n",
        "    \"Black holes, massive objects with gravity so strong that not even light can escape, are among the most intriguing phenomena in space.\",\n",
        "    \"The theory of relativity, proposed by Albert Einstein, revolutionized our understanding of space, time, and gravity.\",\n",
        "    \"Space travel presents numerous challenges, including radiation exposure, microgravity effects on the human body, and the need for life support systems.\",\n",
        "    \"The James Webb Space Telescope, set to launch in the near future, promises to revolutionize our understanding of the early universe and the formation of galaxies.\",\n",
        "    \"The Voyager probes, launched in 1977, continue to journey into interstellar space, carrying messages from humanity in the form of the Golden Record.\",\n",
        "    \"Space tourism is an emerging industry, with companies like SpaceX and Blue Origin offering the opportunity for civilians to experience spaceflight.\",\n",
        "    \"Colonizing other planets, such as Mars, has been proposed as a potential solution to ensure the survival of humanity in the event of a catastrophic event on Earth.\",\n",
        "    \"The Fermi Paradox poses the question of why we have not yet detected signs of extraterrestrial civilizations, given the vastness of the universe.\",\n",
        "    \"The concept of a multiverse, where our universe is just one of many parallel universes, is a topic of speculation among physicists and cosmologists.\",\n",
        "    \"The Big Bang theory describes the origin of the universe as a rapid expansion from a singularity, leading to the formation of galaxies, stars, and planets.\",\n",
        "    \"Dark matter and dark energy, which make up the majority of the universe's mass-energy content, remain elusive and mysterious to scientists.\",\n",
        "    \"Space debris, including defunct satellites and spent rocket stages, poses a growing threat to spacecraft and satellites in orbit around Earth.\",\n",
        "    \"Asteroids and comets, remnants from the early solar system, have the potential to impact Earth and cause significant damage.\",\n",
        "    \"The study of exoplanets, planets orbiting stars outside our solar system, has revealed a diverse array of worlds, some of which may be capable of supporting life.\",\n",
        "    \"The concept of time dilation, as predicted by Einstein's theory of relativity, means that time passes differently for observers in different gravitational fields or traveling at different speeds.\",\n",
        "    \"The Great Red Spot, a massive storm on Jupiter, has been observed for centuries and is one of the most prominent features of the gas giant's atmosphere.\",\n",
        "    \"The Oort Cloud, a hypothetical region of icy bodies located far beyond the orbit of Pluto, is thought to be the source of long-period comets.\",\n",
        "    \"The Drake Equation is a probabilistic approach to estimating the number of extraterrestrial civilizations capable of communicating with us in our galaxy.\",\n",
        "    \"The concept of wormholes, hypothetical tunnels in spacetime that could allow for faster-than-light travel, has captured the imagination of science fiction writers and physicists alike.\",\n",
        "    \"The concept of a space elevator, a structure extending from Earth's surface into space, has been proposed as a potential means of cheap and efficient access to space.\",\n",
        "    \"The search for habitable exoplanets, or those with conditions conducive to life as we know it, is a primary goal of space telescopes and future missions.\",\n",
        "    \"The Kuiper Belt, a region of icy bodies beyond Neptune's orbit, is home to dwarf planets such as Pluto and Eris.\",\n",
        "    \"The concept of panspermia suggests that life may be distributed throughout the universe via comets, asteroids, or other celestial bodies.\",\n",
        "    \"The study of cosmic microwave background radiation provides crucial insights into the early universe and the formation of structures within it.\",\n",
        "    \"Space weather, including phenomena such as solar flares and coronal mass ejections, can have significant impacts on technology and infrastructure on Earth.\",\n",
        "    \"The search for gravitational waves, ripples in spacetime caused by cataclysmic events such as black hole mergers, has opened a new window into the universe.\",\n",
        "    \"The concept of terraforming involves modifying the environment of another planet to make it more Earth-like and suitable for human habitation.\",\n",
        "    \"The study of pulsars, rapidly rotating neutron stars that emit beams of radiation, has provided valuable insights into the nature of matter and extreme physics.\",\n",
        "    \"The concept of the cosmic microwave background, a faint glow of radiation left over from the Big Bang, provides crucial evidence for the hot Big Bang model of the universe.\",\n",
        "    \"The study of gamma-ray bursts, the most energetic explosions in the universe, has led to advances in our understanding of stellar evolution and the deaths of massive stars.\",\n",
        "    \"The concept of a Dyson sphere, a hypothetical megastructure that completely surrounds a star to capture its energy, has been proposed as a potential sign of advanced alien civilizations.\",\n",
        "    \"The study of gravitational lensing, the bending of light by massive objects, allows astronomers to observe distant galaxies and study the distribution of dark matter.\",\n",
        "    \"The concept of a space colony, a self-sustaining human settlement in space, has been proposed as a long-term goal for humanity's expansion beyond Earth.\",\n",
        "    \"The study of cosmic rays, high-energy particles originating from sources outside the solar system, provides valuable information about astrophysical processes and the structure of the galaxy.\",\n",
        "    \"The concept of space elevators, structures extending from Earth's surface into space, could potentially revolutionize space travel by providing a cheap and efficient means of reaching orbit.\",\n",
        "    \"The study of exoplanets, planets orbiting stars outside our solar system, has revealed a diverse array of worlds, some of which may harbor conditions suitable for life.\",\n",
        "    \"The concept of a parallel universe, where multiple universes exist alongside our own, is a topic of speculation in cosmology and theoretical physics.\",\n",
        "    \"The study of cosmic inflation, a rapid expansion of the universe in the early moments of the Big Bang, provides insights into the origin and structure of the cosmos.\"\n",
        "]\n"
      ],
      "metadata": {
        "id": "Nt_YVNuFY64X"
      },
      "execution_count": null,
      "outputs": []
    },
    {
      "cell_type": "code",
      "source": [
        "def tokenize(corpus):\n",
        "  return [nltk.word_tokenize(word) for word in corpus]"
      ],
      "metadata": {
        "id": "JyJeZwM1LfmC"
      },
      "execution_count": null,
      "outputs": []
    },
    {
      "cell_type": "code",
      "source": [
        "tokens = tokenize(corpus)\n",
        "\n",
        "tokenList = []\n",
        "for sentence in tokens:\n",
        "  for token in sentence:\n",
        "    tokenList.append(token)\n",
        "\n",
        "\n",
        "print(tokenList)"
      ],
      "metadata": {
        "colab": {
          "base_uri": "https://localhost:8080/"
        },
        "id": "oVyVXQ0rLknj",
        "outputId": "d066af9f-ad1f-455a-e666-1fa92447cb70"
      },
      "execution_count": null,
      "outputs": [
        {
          "output_type": "stream",
          "name": "stdout",
          "text": [
            "['Space', ',', 'the', 'final', 'frontier', ',', 'has', 'always', 'fascinated', 'humanity', 'with', 'its', 'vastness', 'and', 'mysteries', '.', 'The', 'study', 'of', 'space', ',', 'also', 'known', 'as', 'astronomy', ',', 'encompasses', 'everything', 'beyond', 'Earth', \"'s\", 'atmosphere', ',', 'including', 'stars', ',', 'planets', ',', 'galaxies', ',', 'and', 'more', '.', 'Space', 'exploration', 'has', 'been', 'a', 'monumental', 'endeavor', 'for', 'humanity', ',', 'pushing', 'the', 'boundaries', 'of', 'our', 'understanding', 'and', 'technological', 'capabilities', '.', 'The', 'first', 'human', 'to', 'journey', 'into', 'space', 'was', 'Yuri', 'Gagarin', ',', 'a', 'Soviet', 'cosmonaut', ',', 'who', 'orbited', 'the', 'Earth', 'aboard', 'Vostok', '1', 'on', 'April', '12', ',', '1961', '.', 'Since', 'then', ',', 'space', 'agencies', 'from', 'around', 'the', 'world', ',', 'including', 'NASA', ',', 'ESA', ',', 'Roscosmos', ',', 'and', 'others', ',', 'have', 'sent', 'astronauts', 'and', 'spacecraft', 'to', 'explore', 'the', 'cosmos', '.', 'The', 'Apollo', 'missions', ',', 'notably', 'Apollo', '11', ',', 'landed', 'the', 'first', 'humans', 'on', 'the', 'Moon', 'in', '1969', ',', 'with', 'Neil', 'Armstrong', 'and', 'Buzz', 'Aldrin', 'taking', 'historic', 'steps', 'on', 'its', 'surface', '.', 'Space', 'telescopes', ',', 'such', 'as', 'the', 'Hubble', 'Space', 'Telescope', ',', 'have', 'revolutionized', 'our', 'understanding', 'of', 'the', 'universe', 'by', 'capturing', 'breathtaking', 'images', 'of', 'distant', 'galaxies', 'and', 'nebulae', '.', 'The', 'International', 'Space', 'Station', '(', 'ISS', ')', 'serves', 'as', 'a', 'collaborative', 'space', 'laboratory', 'where', 'astronauts', 'conduct', 'experiments', 'in', 'microgravity', '.', 'Mars', 'has', 'been', 'a', 'focal', 'point', 'for', 'space', 'exploration', ',', 'with', 'numerous', 'missions', 'sent', 'to', 'study', 'its', 'surface', 'and', 'search', 'for', 'signs', 'of', 'past', 'or', 'present', 'life', '.', 'The', 'search', 'for', 'extraterrestrial', 'life', ',', 'or', 'astrobiology', ',', 'is', 'a', 'fundamental', 'question', 'in', 'space', 'exploration', ',', 'with', 'missions', 'like', 'the', 'Mars', 'rovers', 'seeking', 'answers', '.', 'Black', 'holes', ',', 'massive', 'objects', 'with', 'gravity', 'so', 'strong', 'that', 'not', 'even', 'light', 'can', 'escape', ',', 'are', 'among', 'the', 'most', 'intriguing', 'phenomena', 'in', 'space', '.', 'The', 'theory', 'of', 'relativity', ',', 'proposed', 'by', 'Albert', 'Einstein', ',', 'revolutionized', 'our', 'understanding', 'of', 'space', ',', 'time', ',', 'and', 'gravity', '.', 'Space', 'travel', 'presents', 'numerous', 'challenges', ',', 'including', 'radiation', 'exposure', ',', 'microgravity', 'effects', 'on', 'the', 'human', 'body', ',', 'and', 'the', 'need', 'for', 'life', 'support', 'systems', '.', 'The', 'James', 'Webb', 'Space', 'Telescope', ',', 'set', 'to', 'launch', 'in', 'the', 'near', 'future', ',', 'promises', 'to', 'revolutionize', 'our', 'understanding', 'of', 'the', 'early', 'universe', 'and', 'the', 'formation', 'of', 'galaxies', '.', 'The', 'Voyager', 'probes', ',', 'launched', 'in', '1977', ',', 'continue', 'to', 'journey', 'into', 'interstellar', 'space', ',', 'carrying', 'messages', 'from', 'humanity', 'in', 'the', 'form', 'of', 'the', 'Golden', 'Record', '.', 'Space', 'tourism', 'is', 'an', 'emerging', 'industry', ',', 'with', 'companies', 'like', 'SpaceX', 'and', 'Blue', 'Origin', 'offering', 'the', 'opportunity', 'for', 'civilians', 'to', 'experience', 'spaceflight', '.', 'Colonizing', 'other', 'planets', ',', 'such', 'as', 'Mars', ',', 'has', 'been', 'proposed', 'as', 'a', 'potential', 'solution', 'to', 'ensure', 'the', 'survival', 'of', 'humanity', 'in', 'the', 'event', 'of', 'a', 'catastrophic', 'event', 'on', 'Earth', '.', 'The', 'Fermi', 'Paradox', 'poses', 'the', 'question', 'of', 'why', 'we', 'have', 'not', 'yet', 'detected', 'signs', 'of', 'extraterrestrial', 'civilizations', ',', 'given', 'the', 'vastness', 'of', 'the', 'universe', '.', 'The', 'concept', 'of', 'a', 'multiverse', ',', 'where', 'our', 'universe', 'is', 'just', 'one', 'of', 'many', 'parallel', 'universes', ',', 'is', 'a', 'topic', 'of', 'speculation', 'among', 'physicists', 'and', 'cosmologists', '.', 'The', 'Big', 'Bang', 'theory', 'describes', 'the', 'origin', 'of', 'the', 'universe', 'as', 'a', 'rapid', 'expansion', 'from', 'a', 'singularity', ',', 'leading', 'to', 'the', 'formation', 'of', 'galaxies', ',', 'stars', ',', 'and', 'planets', '.', 'Dark', 'matter', 'and', 'dark', 'energy', ',', 'which', 'make', 'up', 'the', 'majority', 'of', 'the', 'universe', \"'s\", 'mass-energy', 'content', ',', 'remain', 'elusive', 'and', 'mysterious', 'to', 'scientists', '.', 'Space', 'debris', ',', 'including', 'defunct', 'satellites', 'and', 'spent', 'rocket', 'stages', ',', 'poses', 'a', 'growing', 'threat', 'to', 'spacecraft', 'and', 'satellites', 'in', 'orbit', 'around', 'Earth', '.', 'Asteroids', 'and', 'comets', ',', 'remnants', 'from', 'the', 'early', 'solar', 'system', ',', 'have', 'the', 'potential', 'to', 'impact', 'Earth', 'and', 'cause', 'significant', 'damage', '.', 'The', 'study', 'of', 'exoplanets', ',', 'planets', 'orbiting', 'stars', 'outside', 'our', 'solar', 'system', ',', 'has', 'revealed', 'a', 'diverse', 'array', 'of', 'worlds', ',', 'some', 'of', 'which', 'may', 'be', 'capable', 'of', 'supporting', 'life', '.', 'The', 'concept', 'of', 'time', 'dilation', ',', 'as', 'predicted', 'by', 'Einstein', \"'s\", 'theory', 'of', 'relativity', ',', 'means', 'that', 'time', 'passes', 'differently', 'for', 'observers', 'in', 'different', 'gravitational', 'fields', 'or', 'traveling', 'at', 'different', 'speeds', '.', 'The', 'Great', 'Red', 'Spot', ',', 'a', 'massive', 'storm', 'on', 'Jupiter', ',', 'has', 'been', 'observed', 'for', 'centuries', 'and', 'is', 'one', 'of', 'the', 'most', 'prominent', 'features', 'of', 'the', 'gas', 'giant', \"'s\", 'atmosphere', '.', 'The', 'Oort', 'Cloud', ',', 'a', 'hypothetical', 'region', 'of', 'icy', 'bodies', 'located', 'far', 'beyond', 'the', 'orbit', 'of', 'Pluto', ',', 'is', 'thought', 'to', 'be', 'the', 'source', 'of', 'long-period', 'comets', '.', 'The', 'Drake', 'Equation', 'is', 'a', 'probabilistic', 'approach', 'to', 'estimating', 'the', 'number', 'of', 'extraterrestrial', 'civilizations', 'capable', 'of', 'communicating', 'with', 'us', 'in', 'our', 'galaxy', '.', 'The', 'concept', 'of', 'wormholes', ',', 'hypothetical', 'tunnels', 'in', 'spacetime', 'that', 'could', 'allow', 'for', 'faster-than-light', 'travel', ',', 'has', 'captured', 'the', 'imagination', 'of', 'science', 'fiction', 'writers', 'and', 'physicists', 'alike', '.', 'The', 'concept', 'of', 'a', 'space', 'elevator', ',', 'a', 'structure', 'extending', 'from', 'Earth', \"'s\", 'surface', 'into', 'space', ',', 'has', 'been', 'proposed', 'as', 'a', 'potential', 'means', 'of', 'cheap', 'and', 'efficient', 'access', 'to', 'space', '.', 'The', 'search', 'for', 'habitable', 'exoplanets', ',', 'or', 'those', 'with', 'conditions', 'conducive', 'to', 'life', 'as', 'we', 'know', 'it', ',', 'is', 'a', 'primary', 'goal', 'of', 'space', 'telescopes', 'and', 'future', 'missions', '.', 'The', 'Kuiper', 'Belt', ',', 'a', 'region', 'of', 'icy', 'bodies', 'beyond', 'Neptune', \"'s\", 'orbit', ',', 'is', 'home', 'to', 'dwarf', 'planets', 'such', 'as', 'Pluto', 'and', 'Eris', '.', 'The', 'concept', 'of', 'panspermia', 'suggests', 'that', 'life', 'may', 'be', 'distributed', 'throughout', 'the', 'universe', 'via', 'comets', ',', 'asteroids', ',', 'or', 'other', 'celestial', 'bodies', '.', 'The', 'study', 'of', 'cosmic', 'microwave', 'background', 'radiation', 'provides', 'crucial', 'insights', 'into', 'the', 'early', 'universe', 'and', 'the', 'formation', 'of', 'structures', 'within', 'it', '.', 'Space', 'weather', ',', 'including', 'phenomena', 'such', 'as', 'solar', 'flares', 'and', 'coronal', 'mass', 'ejections', ',', 'can', 'have', 'significant', 'impacts', 'on', 'technology', 'and', 'infrastructure', 'on', 'Earth', '.', 'The', 'search', 'for', 'gravitational', 'waves', ',', 'ripples', 'in', 'spacetime', 'caused', 'by', 'cataclysmic', 'events', 'such', 'as', 'black', 'hole', 'mergers', ',', 'has', 'opened', 'a', 'new', 'window', 'into', 'the', 'universe', '.', 'The', 'concept', 'of', 'terraforming', 'involves', 'modifying', 'the', 'environment', 'of', 'another', 'planet', 'to', 'make', 'it', 'more', 'Earth-like', 'and', 'suitable', 'for', 'human', 'habitation', '.', 'The', 'study', 'of', 'pulsars', ',', 'rapidly', 'rotating', 'neutron', 'stars', 'that', 'emit', 'beams', 'of', 'radiation', ',', 'has', 'provided', 'valuable', 'insights', 'into', 'the', 'nature', 'of', 'matter', 'and', 'extreme', 'physics', '.', 'The', 'concept', 'of', 'the', 'cosmic', 'microwave', 'background', ',', 'a', 'faint', 'glow', 'of', 'radiation', 'left', 'over', 'from', 'the', 'Big', 'Bang', ',', 'provides', 'crucial', 'evidence', 'for', 'the', 'hot', 'Big', 'Bang', 'model', 'of', 'the', 'universe', '.', 'The', 'study', 'of', 'gamma-ray', 'bursts', ',', 'the', 'most', 'energetic', 'explosions', 'in', 'the', 'universe', ',', 'has', 'led', 'to', 'advances', 'in', 'our', 'understanding', 'of', 'stellar', 'evolution', 'and', 'the', 'deaths', 'of', 'massive', 'stars', '.', 'The', 'concept', 'of', 'a', 'Dyson', 'sphere', ',', 'a', 'hypothetical', 'megastructure', 'that', 'completely', 'surrounds', 'a', 'star', 'to', 'capture', 'its', 'energy', ',', 'has', 'been', 'proposed', 'as', 'a', 'potential', 'sign', 'of', 'advanced', 'alien', 'civilizations', '.', 'The', 'study', 'of', 'gravitational', 'lensing', ',', 'the', 'bending', 'of', 'light', 'by', 'massive', 'objects', ',', 'allows', 'astronomers', 'to', 'observe', 'distant', 'galaxies', 'and', 'study', 'the', 'distribution', 'of', 'dark', 'matter', '.', 'The', 'concept', 'of', 'a', 'space', 'colony', ',', 'a', 'self-sustaining', 'human', 'settlement', 'in', 'space', ',', 'has', 'been', 'proposed', 'as', 'a', 'long-term', 'goal', 'for', 'humanity', \"'s\", 'expansion', 'beyond', 'Earth', '.', 'The', 'study', 'of', 'cosmic', 'rays', ',', 'high-energy', 'particles', 'originating', 'from', 'sources', 'outside', 'the', 'solar', 'system', ',', 'provides', 'valuable', 'information', 'about', 'astrophysical', 'processes', 'and', 'the', 'structure', 'of', 'the', 'galaxy', '.', 'The', 'concept', 'of', 'space', 'elevators', ',', 'structures', 'extending', 'from', 'Earth', \"'s\", 'surface', 'into', 'space', ',', 'could', 'potentially', 'revolutionize', 'space', 'travel', 'by', 'providing', 'a', 'cheap', 'and', 'efficient', 'means', 'of', 'reaching', 'orbit', '.', 'The', 'study', 'of', 'exoplanets', ',', 'planets', 'orbiting', 'stars', 'outside', 'our', 'solar', 'system', ',', 'has', 'revealed', 'a', 'diverse', 'array', 'of', 'worlds', ',', 'some', 'of', 'which', 'may', 'harbor', 'conditions', 'suitable', 'for', 'life', '.', 'The', 'concept', 'of', 'a', 'parallel', 'universe', ',', 'where', 'multiple', 'universes', 'exist', 'alongside', 'our', 'own', ',', 'is', 'a', 'topic', 'of', 'speculation', 'in', 'cosmology', 'and', 'theoretical', 'physics', '.', 'The', 'study', 'of', 'cosmic', 'inflation', ',', 'a', 'rapid', 'expansion', 'of', 'the', 'universe', 'in', 'the', 'early', 'moments', 'of', 'the', 'Big', 'Bang', ',', 'provides', 'insights', 'into', 'the', 'origin', 'and', 'structure', 'of', 'the', 'cosmos', '.']\n"
          ]
        }
      ]
    },
    {
      "cell_type": "code",
      "source": [
        "unique_words = set(tokenList)"
      ],
      "metadata": {
        "id": "2F3tsimuMqHR"
      },
      "execution_count": null,
      "outputs": []
    },
    {
      "cell_type": "code",
      "source": [
        "def Unigram(tokens):\n",
        "  freq = {}\n",
        "  for sentence in tokens:\n",
        "    for token in sentence:\n",
        "      if token in freq:\n",
        "        freq[token]+=1\n",
        "      else:\n",
        "        freq[token] = 1\n",
        "  return freq"
      ],
      "metadata": {
        "id": "XLHIJmEuLme7"
      },
      "execution_count": null,
      "outputs": []
    },
    {
      "cell_type": "code",
      "source": [
        "frequency = Unigram(tokens)"
      ],
      "metadata": {
        "id": "5s63OLQALonq"
      },
      "execution_count": null,
      "outputs": []
    },
    {
      "cell_type": "code",
      "source": [
        "print(frequency)"
      ],
      "metadata": {
        "colab": {
          "base_uri": "https://localhost:8080/"
        },
        "id": "nv_-RU8ALqiP",
        "outputId": "8c327c9e-ae02-43e0-d982-d42e24d6ecb0"
      },
      "execution_count": null,
      "outputs": [
        {
          "output_type": "stream",
          "name": "stdout",
          "text": [
            "{'Space': 10, ',': 102, 'the': 60, 'final': 1, 'frontier': 1, 'has': 14, 'always': 1, 'fascinated': 1, 'humanity': 5, 'with': 8, 'its': 4, 'vastness': 2, 'and': 36, 'mysteries': 1, '.': 48, 'The': 35, 'study': 11, 'of': 73, 'space': 18, 'also': 1, 'known': 1, 'as': 14, 'astronomy': 1, 'encompasses': 1, 'everything': 1, 'beyond': 4, 'Earth': 9, \"'s\": 8, 'atmosphere': 2, 'including': 5, 'stars': 6, 'planets': 6, 'galaxies': 5, 'more': 2, 'exploration': 3, 'been': 7, 'a': 35, 'monumental': 1, 'endeavor': 1, 'for': 15, 'pushing': 1, 'boundaries': 1, 'our': 10, 'understanding': 5, 'technological': 1, 'capabilities': 1, 'first': 2, 'human': 4, 'to': 21, 'journey': 2, 'into': 8, 'was': 1, 'Yuri': 1, 'Gagarin': 1, 'Soviet': 1, 'cosmonaut': 1, 'who': 1, 'orbited': 1, 'aboard': 1, 'Vostok': 1, '1': 1, 'on': 8, 'April': 1, '12': 1, '1961': 1, 'Since': 1, 'then': 1, 'agencies': 1, 'from': 8, 'around': 2, 'world': 1, 'NASA': 1, 'ESA': 1, 'Roscosmos': 1, 'others': 1, 'have': 5, 'sent': 2, 'astronauts': 2, 'spacecraft': 2, 'explore': 1, 'cosmos': 2, 'Apollo': 2, 'missions': 4, 'notably': 1, '11': 1, 'landed': 1, 'humans': 1, 'Moon': 1, 'in': 18, '1969': 1, 'Neil': 1, 'Armstrong': 1, 'Buzz': 1, 'Aldrin': 1, 'taking': 1, 'historic': 1, 'steps': 1, 'surface': 4, 'telescopes': 2, 'such': 5, 'Hubble': 1, 'Telescope': 2, 'revolutionized': 2, 'universe': 13, 'by': 6, 'capturing': 1, 'breathtaking': 1, 'images': 1, 'distant': 2, 'nebulae': 1, 'International': 1, 'Station': 1, '(': 1, 'ISS': 1, ')': 1, 'serves': 1, 'collaborative': 1, 'laboratory': 1, 'where': 3, 'conduct': 1, 'experiments': 1, 'microgravity': 2, 'Mars': 3, 'focal': 1, 'point': 1, 'numerous': 2, 'search': 4, 'signs': 2, 'past': 1, 'or': 5, 'present': 1, 'life': 7, 'extraterrestrial': 3, 'astrobiology': 1, 'is': 10, 'fundamental': 1, 'question': 2, 'like': 2, 'rovers': 1, 'seeking': 1, 'answers': 1, 'Black': 1, 'holes': 1, 'massive': 4, 'objects': 2, 'gravity': 2, 'so': 1, 'strong': 1, 'that': 6, 'not': 2, 'even': 1, 'light': 2, 'can': 2, 'escape': 1, 'are': 1, 'among': 2, 'most': 3, 'intriguing': 1, 'phenomena': 2, 'theory': 3, 'relativity': 2, 'proposed': 5, 'Albert': 1, 'Einstein': 2, 'time': 3, 'travel': 3, 'presents': 1, 'challenges': 1, 'radiation': 4, 'exposure': 1, 'effects': 1, 'body': 1, 'need': 1, 'support': 1, 'systems': 1, 'James': 1, 'Webb': 1, 'set': 1, 'launch': 1, 'near': 1, 'future': 2, 'promises': 1, 'revolutionize': 2, 'early': 4, 'formation': 3, 'Voyager': 1, 'probes': 1, 'launched': 1, '1977': 1, 'continue': 1, 'interstellar': 1, 'carrying': 1, 'messages': 1, 'form': 1, 'Golden': 1, 'Record': 1, 'tourism': 1, 'an': 1, 'emerging': 1, 'industry': 1, 'companies': 1, 'SpaceX': 1, 'Blue': 1, 'Origin': 1, 'offering': 1, 'opportunity': 1, 'civilians': 1, 'experience': 1, 'spaceflight': 1, 'Colonizing': 1, 'other': 2, 'potential': 4, 'solution': 1, 'ensure': 1, 'survival': 1, 'event': 2, 'catastrophic': 1, 'Fermi': 1, 'Paradox': 1, 'poses': 2, 'why': 1, 'we': 2, 'yet': 1, 'detected': 1, 'civilizations': 3, 'given': 1, 'concept': 11, 'multiverse': 1, 'just': 1, 'one': 2, 'many': 1, 'parallel': 2, 'universes': 2, 'topic': 2, 'speculation': 2, 'physicists': 2, 'cosmologists': 1, 'Big': 4, 'Bang': 4, 'describes': 1, 'origin': 2, 'rapid': 2, 'expansion': 3, 'singularity': 1, 'leading': 1, 'Dark': 1, 'matter': 3, 'dark': 2, 'energy': 2, 'which': 3, 'make': 2, 'up': 1, 'majority': 1, 'mass-energy': 1, 'content': 1, 'remain': 1, 'elusive': 1, 'mysterious': 1, 'scientists': 1, 'debris': 1, 'defunct': 1, 'satellites': 2, 'spent': 1, 'rocket': 1, 'stages': 1, 'growing': 1, 'threat': 1, 'orbit': 4, 'Asteroids': 1, 'comets': 3, 'remnants': 1, 'solar': 5, 'system': 4, 'impact': 1, 'cause': 1, 'significant': 2, 'damage': 1, 'exoplanets': 3, 'orbiting': 2, 'outside': 3, 'revealed': 2, 'diverse': 2, 'array': 2, 'worlds': 2, 'some': 2, 'may': 3, 'be': 3, 'capable': 2, 'supporting': 1, 'dilation': 1, 'predicted': 1, 'means': 3, 'passes': 1, 'differently': 1, 'observers': 1, 'different': 2, 'gravitational': 3, 'fields': 1, 'traveling': 1, 'at': 1, 'speeds': 1, 'Great': 1, 'Red': 1, 'Spot': 1, 'storm': 1, 'Jupiter': 1, 'observed': 1, 'centuries': 1, 'prominent': 1, 'features': 1, 'gas': 1, 'giant': 1, 'Oort': 1, 'Cloud': 1, 'hypothetical': 3, 'region': 2, 'icy': 2, 'bodies': 3, 'located': 1, 'far': 1, 'Pluto': 2, 'thought': 1, 'source': 1, 'long-period': 1, 'Drake': 1, 'Equation': 1, 'probabilistic': 1, 'approach': 1, 'estimating': 1, 'number': 1, 'communicating': 1, 'us': 1, 'galaxy': 2, 'wormholes': 1, 'tunnels': 1, 'spacetime': 2, 'could': 2, 'allow': 1, 'faster-than-light': 1, 'captured': 1, 'imagination': 1, 'science': 1, 'fiction': 1, 'writers': 1, 'alike': 1, 'elevator': 1, 'structure': 3, 'extending': 2, 'cheap': 2, 'efficient': 2, 'access': 1, 'habitable': 1, 'those': 1, 'conditions': 2, 'conducive': 1, 'know': 1, 'it': 3, 'primary': 1, 'goal': 2, 'Kuiper': 1, 'Belt': 1, 'Neptune': 1, 'home': 1, 'dwarf': 1, 'Eris': 1, 'panspermia': 1, 'suggests': 1, 'distributed': 1, 'throughout': 1, 'via': 1, 'asteroids': 1, 'celestial': 1, 'cosmic': 4, 'microwave': 2, 'background': 2, 'provides': 4, 'crucial': 2, 'insights': 3, 'structures': 2, 'within': 1, 'weather': 1, 'flares': 1, 'coronal': 1, 'mass': 1, 'ejections': 1, 'impacts': 1, 'technology': 1, 'infrastructure': 1, 'waves': 1, 'ripples': 1, 'caused': 1, 'cataclysmic': 1, 'events': 1, 'black': 1, 'hole': 1, 'mergers': 1, 'opened': 1, 'new': 1, 'window': 1, 'terraforming': 1, 'involves': 1, 'modifying': 1, 'environment': 1, 'another': 1, 'planet': 1, 'Earth-like': 1, 'suitable': 2, 'habitation': 1, 'pulsars': 1, 'rapidly': 1, 'rotating': 1, 'neutron': 1, 'emit': 1, 'beams': 1, 'provided': 1, 'valuable': 2, 'nature': 1, 'extreme': 1, 'physics': 2, 'faint': 1, 'glow': 1, 'left': 1, 'over': 1, 'evidence': 1, 'hot': 1, 'model': 1, 'gamma-ray': 1, 'bursts': 1, 'energetic': 1, 'explosions': 1, 'led': 1, 'advances': 1, 'stellar': 1, 'evolution': 1, 'deaths': 1, 'Dyson': 1, 'sphere': 1, 'megastructure': 1, 'completely': 1, 'surrounds': 1, 'star': 1, 'capture': 1, 'sign': 1, 'advanced': 1, 'alien': 1, 'lensing': 1, 'bending': 1, 'allows': 1, 'astronomers': 1, 'observe': 1, 'distribution': 1, 'colony': 1, 'self-sustaining': 1, 'settlement': 1, 'long-term': 1, 'rays': 1, 'high-energy': 1, 'particles': 1, 'originating': 1, 'sources': 1, 'information': 1, 'about': 1, 'astrophysical': 1, 'processes': 1, 'elevators': 1, 'potentially': 1, 'providing': 1, 'reaching': 1, 'harbor': 1, 'multiple': 1, 'exist': 1, 'alongside': 1, 'own': 1, 'cosmology': 1, 'theoretical': 1, 'inflation': 1, 'moments': 1}\n"
          ]
        }
      ]
    },
    {
      "cell_type": "code",
      "source": [
        "bigram_list = [(tokenList[i], tokenList[i+1]) for i in range(len(tokenList)-1)]\n",
        "print(bigram_list)"
      ],
      "metadata": {
        "colab": {
          "base_uri": "https://localhost:8080/"
        },
        "id": "HB6py-FyLslD",
        "outputId": "c02cc154-748e-4139-87be-a16cbc7d02ce"
      },
      "execution_count": null,
      "outputs": [
        {
          "output_type": "stream",
          "name": "stdout",
          "text": [
            "[('Space', ','), (',', 'the'), ('the', 'final'), ('final', 'frontier'), ('frontier', ','), (',', 'has'), ('has', 'always'), ('always', 'fascinated'), ('fascinated', 'humanity'), ('humanity', 'with'), ('with', 'its'), ('its', 'vastness'), ('vastness', 'and'), ('and', 'mysteries'), ('mysteries', '.'), ('.', 'The'), ('The', 'study'), ('study', 'of'), ('of', 'space'), ('space', ','), (',', 'also'), ('also', 'known'), ('known', 'as'), ('as', 'astronomy'), ('astronomy', ','), (',', 'encompasses'), ('encompasses', 'everything'), ('everything', 'beyond'), ('beyond', 'Earth'), ('Earth', \"'s\"), (\"'s\", 'atmosphere'), ('atmosphere', ','), (',', 'including'), ('including', 'stars'), ('stars', ','), (',', 'planets'), ('planets', ','), (',', 'galaxies'), ('galaxies', ','), (',', 'and'), ('and', 'more'), ('more', '.'), ('.', 'Space'), ('Space', 'exploration'), ('exploration', 'has'), ('has', 'been'), ('been', 'a'), ('a', 'monumental'), ('monumental', 'endeavor'), ('endeavor', 'for'), ('for', 'humanity'), ('humanity', ','), (',', 'pushing'), ('pushing', 'the'), ('the', 'boundaries'), ('boundaries', 'of'), ('of', 'our'), ('our', 'understanding'), ('understanding', 'and'), ('and', 'technological'), ('technological', 'capabilities'), ('capabilities', '.'), ('.', 'The'), ('The', 'first'), ('first', 'human'), ('human', 'to'), ('to', 'journey'), ('journey', 'into'), ('into', 'space'), ('space', 'was'), ('was', 'Yuri'), ('Yuri', 'Gagarin'), ('Gagarin', ','), (',', 'a'), ('a', 'Soviet'), ('Soviet', 'cosmonaut'), ('cosmonaut', ','), (',', 'who'), ('who', 'orbited'), ('orbited', 'the'), ('the', 'Earth'), ('Earth', 'aboard'), ('aboard', 'Vostok'), ('Vostok', '1'), ('1', 'on'), ('on', 'April'), ('April', '12'), ('12', ','), (',', '1961'), ('1961', '.'), ('.', 'Since'), ('Since', 'then'), ('then', ','), (',', 'space'), ('space', 'agencies'), ('agencies', 'from'), ('from', 'around'), ('around', 'the'), ('the', 'world'), ('world', ','), (',', 'including'), ('including', 'NASA'), ('NASA', ','), (',', 'ESA'), ('ESA', ','), (',', 'Roscosmos'), ('Roscosmos', ','), (',', 'and'), ('and', 'others'), ('others', ','), (',', 'have'), ('have', 'sent'), ('sent', 'astronauts'), ('astronauts', 'and'), ('and', 'spacecraft'), ('spacecraft', 'to'), ('to', 'explore'), ('explore', 'the'), ('the', 'cosmos'), ('cosmos', '.'), ('.', 'The'), ('The', 'Apollo'), ('Apollo', 'missions'), ('missions', ','), (',', 'notably'), ('notably', 'Apollo'), ('Apollo', '11'), ('11', ','), (',', 'landed'), ('landed', 'the'), ('the', 'first'), ('first', 'humans'), ('humans', 'on'), ('on', 'the'), ('the', 'Moon'), ('Moon', 'in'), ('in', '1969'), ('1969', ','), (',', 'with'), ('with', 'Neil'), ('Neil', 'Armstrong'), ('Armstrong', 'and'), ('and', 'Buzz'), ('Buzz', 'Aldrin'), ('Aldrin', 'taking'), ('taking', 'historic'), ('historic', 'steps'), ('steps', 'on'), ('on', 'its'), ('its', 'surface'), ('surface', '.'), ('.', 'Space'), ('Space', 'telescopes'), ('telescopes', ','), (',', 'such'), ('such', 'as'), ('as', 'the'), ('the', 'Hubble'), ('Hubble', 'Space'), ('Space', 'Telescope'), ('Telescope', ','), (',', 'have'), ('have', 'revolutionized'), ('revolutionized', 'our'), ('our', 'understanding'), ('understanding', 'of'), ('of', 'the'), ('the', 'universe'), ('universe', 'by'), ('by', 'capturing'), ('capturing', 'breathtaking'), ('breathtaking', 'images'), ('images', 'of'), ('of', 'distant'), ('distant', 'galaxies'), ('galaxies', 'and'), ('and', 'nebulae'), ('nebulae', '.'), ('.', 'The'), ('The', 'International'), ('International', 'Space'), ('Space', 'Station'), ('Station', '('), ('(', 'ISS'), ('ISS', ')'), (')', 'serves'), ('serves', 'as'), ('as', 'a'), ('a', 'collaborative'), ('collaborative', 'space'), ('space', 'laboratory'), ('laboratory', 'where'), ('where', 'astronauts'), ('astronauts', 'conduct'), ('conduct', 'experiments'), ('experiments', 'in'), ('in', 'microgravity'), ('microgravity', '.'), ('.', 'Mars'), ('Mars', 'has'), ('has', 'been'), ('been', 'a'), ('a', 'focal'), ('focal', 'point'), ('point', 'for'), ('for', 'space'), ('space', 'exploration'), ('exploration', ','), (',', 'with'), ('with', 'numerous'), ('numerous', 'missions'), ('missions', 'sent'), ('sent', 'to'), ('to', 'study'), ('study', 'its'), ('its', 'surface'), ('surface', 'and'), ('and', 'search'), ('search', 'for'), ('for', 'signs'), ('signs', 'of'), ('of', 'past'), ('past', 'or'), ('or', 'present'), ('present', 'life'), ('life', '.'), ('.', 'The'), ('The', 'search'), ('search', 'for'), ('for', 'extraterrestrial'), ('extraterrestrial', 'life'), ('life', ','), (',', 'or'), ('or', 'astrobiology'), ('astrobiology', ','), (',', 'is'), ('is', 'a'), ('a', 'fundamental'), ('fundamental', 'question'), ('question', 'in'), ('in', 'space'), ('space', 'exploration'), ('exploration', ','), (',', 'with'), ('with', 'missions'), ('missions', 'like'), ('like', 'the'), ('the', 'Mars'), ('Mars', 'rovers'), ('rovers', 'seeking'), ('seeking', 'answers'), ('answers', '.'), ('.', 'Black'), ('Black', 'holes'), ('holes', ','), (',', 'massive'), ('massive', 'objects'), ('objects', 'with'), ('with', 'gravity'), ('gravity', 'so'), ('so', 'strong'), ('strong', 'that'), ('that', 'not'), ('not', 'even'), ('even', 'light'), ('light', 'can'), ('can', 'escape'), ('escape', ','), (',', 'are'), ('are', 'among'), ('among', 'the'), ('the', 'most'), ('most', 'intriguing'), ('intriguing', 'phenomena'), ('phenomena', 'in'), ('in', 'space'), ('space', '.'), ('.', 'The'), ('The', 'theory'), ('theory', 'of'), ('of', 'relativity'), ('relativity', ','), (',', 'proposed'), ('proposed', 'by'), ('by', 'Albert'), ('Albert', 'Einstein'), ('Einstein', ','), (',', 'revolutionized'), ('revolutionized', 'our'), ('our', 'understanding'), ('understanding', 'of'), ('of', 'space'), ('space', ','), (',', 'time'), ('time', ','), (',', 'and'), ('and', 'gravity'), ('gravity', '.'), ('.', 'Space'), ('Space', 'travel'), ('travel', 'presents'), ('presents', 'numerous'), ('numerous', 'challenges'), ('challenges', ','), (',', 'including'), ('including', 'radiation'), ('radiation', 'exposure'), ('exposure', ','), (',', 'microgravity'), ('microgravity', 'effects'), ('effects', 'on'), ('on', 'the'), ('the', 'human'), ('human', 'body'), ('body', ','), (',', 'and'), ('and', 'the'), ('the', 'need'), ('need', 'for'), ('for', 'life'), ('life', 'support'), ('support', 'systems'), ('systems', '.'), ('.', 'The'), ('The', 'James'), ('James', 'Webb'), ('Webb', 'Space'), ('Space', 'Telescope'), ('Telescope', ','), (',', 'set'), ('set', 'to'), ('to', 'launch'), ('launch', 'in'), ('in', 'the'), ('the', 'near'), ('near', 'future'), ('future', ','), (',', 'promises'), ('promises', 'to'), ('to', 'revolutionize'), ('revolutionize', 'our'), ('our', 'understanding'), ('understanding', 'of'), ('of', 'the'), ('the', 'early'), ('early', 'universe'), ('universe', 'and'), ('and', 'the'), ('the', 'formation'), ('formation', 'of'), ('of', 'galaxies'), ('galaxies', '.'), ('.', 'The'), ('The', 'Voyager'), ('Voyager', 'probes'), ('probes', ','), (',', 'launched'), ('launched', 'in'), ('in', '1977'), ('1977', ','), (',', 'continue'), ('continue', 'to'), ('to', 'journey'), ('journey', 'into'), ('into', 'interstellar'), ('interstellar', 'space'), ('space', ','), (',', 'carrying'), ('carrying', 'messages'), ('messages', 'from'), ('from', 'humanity'), ('humanity', 'in'), ('in', 'the'), ('the', 'form'), ('form', 'of'), ('of', 'the'), ('the', 'Golden'), ('Golden', 'Record'), ('Record', '.'), ('.', 'Space'), ('Space', 'tourism'), ('tourism', 'is'), ('is', 'an'), ('an', 'emerging'), ('emerging', 'industry'), ('industry', ','), (',', 'with'), ('with', 'companies'), ('companies', 'like'), ('like', 'SpaceX'), ('SpaceX', 'and'), ('and', 'Blue'), ('Blue', 'Origin'), ('Origin', 'offering'), ('offering', 'the'), ('the', 'opportunity'), ('opportunity', 'for'), ('for', 'civilians'), ('civilians', 'to'), ('to', 'experience'), ('experience', 'spaceflight'), ('spaceflight', '.'), ('.', 'Colonizing'), ('Colonizing', 'other'), ('other', 'planets'), ('planets', ','), (',', 'such'), ('such', 'as'), ('as', 'Mars'), ('Mars', ','), (',', 'has'), ('has', 'been'), ('been', 'proposed'), ('proposed', 'as'), ('as', 'a'), ('a', 'potential'), ('potential', 'solution'), ('solution', 'to'), ('to', 'ensure'), ('ensure', 'the'), ('the', 'survival'), ('survival', 'of'), ('of', 'humanity'), ('humanity', 'in'), ('in', 'the'), ('the', 'event'), ('event', 'of'), ('of', 'a'), ('a', 'catastrophic'), ('catastrophic', 'event'), ('event', 'on'), ('on', 'Earth'), ('Earth', '.'), ('.', 'The'), ('The', 'Fermi'), ('Fermi', 'Paradox'), ('Paradox', 'poses'), ('poses', 'the'), ('the', 'question'), ('question', 'of'), ('of', 'why'), ('why', 'we'), ('we', 'have'), ('have', 'not'), ('not', 'yet'), ('yet', 'detected'), ('detected', 'signs'), ('signs', 'of'), ('of', 'extraterrestrial'), ('extraterrestrial', 'civilizations'), ('civilizations', ','), (',', 'given'), ('given', 'the'), ('the', 'vastness'), ('vastness', 'of'), ('of', 'the'), ('the', 'universe'), ('universe', '.'), ('.', 'The'), ('The', 'concept'), ('concept', 'of'), ('of', 'a'), ('a', 'multiverse'), ('multiverse', ','), (',', 'where'), ('where', 'our'), ('our', 'universe'), ('universe', 'is'), ('is', 'just'), ('just', 'one'), ('one', 'of'), ('of', 'many'), ('many', 'parallel'), ('parallel', 'universes'), ('universes', ','), (',', 'is'), ('is', 'a'), ('a', 'topic'), ('topic', 'of'), ('of', 'speculation'), ('speculation', 'among'), ('among', 'physicists'), ('physicists', 'and'), ('and', 'cosmologists'), ('cosmologists', '.'), ('.', 'The'), ('The', 'Big'), ('Big', 'Bang'), ('Bang', 'theory'), ('theory', 'describes'), ('describes', 'the'), ('the', 'origin'), ('origin', 'of'), ('of', 'the'), ('the', 'universe'), ('universe', 'as'), ('as', 'a'), ('a', 'rapid'), ('rapid', 'expansion'), ('expansion', 'from'), ('from', 'a'), ('a', 'singularity'), ('singularity', ','), (',', 'leading'), ('leading', 'to'), ('to', 'the'), ('the', 'formation'), ('formation', 'of'), ('of', 'galaxies'), ('galaxies', ','), (',', 'stars'), ('stars', ','), (',', 'and'), ('and', 'planets'), ('planets', '.'), ('.', 'Dark'), ('Dark', 'matter'), ('matter', 'and'), ('and', 'dark'), ('dark', 'energy'), ('energy', ','), (',', 'which'), ('which', 'make'), ('make', 'up'), ('up', 'the'), ('the', 'majority'), ('majority', 'of'), ('of', 'the'), ('the', 'universe'), ('universe', \"'s\"), (\"'s\", 'mass-energy'), ('mass-energy', 'content'), ('content', ','), (',', 'remain'), ('remain', 'elusive'), ('elusive', 'and'), ('and', 'mysterious'), ('mysterious', 'to'), ('to', 'scientists'), ('scientists', '.'), ('.', 'Space'), ('Space', 'debris'), ('debris', ','), (',', 'including'), ('including', 'defunct'), ('defunct', 'satellites'), ('satellites', 'and'), ('and', 'spent'), ('spent', 'rocket'), ('rocket', 'stages'), ('stages', ','), (',', 'poses'), ('poses', 'a'), ('a', 'growing'), ('growing', 'threat'), ('threat', 'to'), ('to', 'spacecraft'), ('spacecraft', 'and'), ('and', 'satellites'), ('satellites', 'in'), ('in', 'orbit'), ('orbit', 'around'), ('around', 'Earth'), ('Earth', '.'), ('.', 'Asteroids'), ('Asteroids', 'and'), ('and', 'comets'), ('comets', ','), (',', 'remnants'), ('remnants', 'from'), ('from', 'the'), ('the', 'early'), ('early', 'solar'), ('solar', 'system'), ('system', ','), (',', 'have'), ('have', 'the'), ('the', 'potential'), ('potential', 'to'), ('to', 'impact'), ('impact', 'Earth'), ('Earth', 'and'), ('and', 'cause'), ('cause', 'significant'), ('significant', 'damage'), ('damage', '.'), ('.', 'The'), ('The', 'study'), ('study', 'of'), ('of', 'exoplanets'), ('exoplanets', ','), (',', 'planets'), ('planets', 'orbiting'), ('orbiting', 'stars'), ('stars', 'outside'), ('outside', 'our'), ('our', 'solar'), ('solar', 'system'), ('system', ','), (',', 'has'), ('has', 'revealed'), ('revealed', 'a'), ('a', 'diverse'), ('diverse', 'array'), ('array', 'of'), ('of', 'worlds'), ('worlds', ','), (',', 'some'), ('some', 'of'), ('of', 'which'), ('which', 'may'), ('may', 'be'), ('be', 'capable'), ('capable', 'of'), ('of', 'supporting'), ('supporting', 'life'), ('life', '.'), ('.', 'The'), ('The', 'concept'), ('concept', 'of'), ('of', 'time'), ('time', 'dilation'), ('dilation', ','), (',', 'as'), ('as', 'predicted'), ('predicted', 'by'), ('by', 'Einstein'), ('Einstein', \"'s\"), (\"'s\", 'theory'), ('theory', 'of'), ('of', 'relativity'), ('relativity', ','), (',', 'means'), ('means', 'that'), ('that', 'time'), ('time', 'passes'), ('passes', 'differently'), ('differently', 'for'), ('for', 'observers'), ('observers', 'in'), ('in', 'different'), ('different', 'gravitational'), ('gravitational', 'fields'), ('fields', 'or'), ('or', 'traveling'), ('traveling', 'at'), ('at', 'different'), ('different', 'speeds'), ('speeds', '.'), ('.', 'The'), ('The', 'Great'), ('Great', 'Red'), ('Red', 'Spot'), ('Spot', ','), (',', 'a'), ('a', 'massive'), ('massive', 'storm'), ('storm', 'on'), ('on', 'Jupiter'), ('Jupiter', ','), (',', 'has'), ('has', 'been'), ('been', 'observed'), ('observed', 'for'), ('for', 'centuries'), ('centuries', 'and'), ('and', 'is'), ('is', 'one'), ('one', 'of'), ('of', 'the'), ('the', 'most'), ('most', 'prominent'), ('prominent', 'features'), ('features', 'of'), ('of', 'the'), ('the', 'gas'), ('gas', 'giant'), ('giant', \"'s\"), (\"'s\", 'atmosphere'), ('atmosphere', '.'), ('.', 'The'), ('The', 'Oort'), ('Oort', 'Cloud'), ('Cloud', ','), (',', 'a'), ('a', 'hypothetical'), ('hypothetical', 'region'), ('region', 'of'), ('of', 'icy'), ('icy', 'bodies'), ('bodies', 'located'), ('located', 'far'), ('far', 'beyond'), ('beyond', 'the'), ('the', 'orbit'), ('orbit', 'of'), ('of', 'Pluto'), ('Pluto', ','), (',', 'is'), ('is', 'thought'), ('thought', 'to'), ('to', 'be'), ('be', 'the'), ('the', 'source'), ('source', 'of'), ('of', 'long-period'), ('long-period', 'comets'), ('comets', '.'), ('.', 'The'), ('The', 'Drake'), ('Drake', 'Equation'), ('Equation', 'is'), ('is', 'a'), ('a', 'probabilistic'), ('probabilistic', 'approach'), ('approach', 'to'), ('to', 'estimating'), ('estimating', 'the'), ('the', 'number'), ('number', 'of'), ('of', 'extraterrestrial'), ('extraterrestrial', 'civilizations'), ('civilizations', 'capable'), ('capable', 'of'), ('of', 'communicating'), ('communicating', 'with'), ('with', 'us'), ('us', 'in'), ('in', 'our'), ('our', 'galaxy'), ('galaxy', '.'), ('.', 'The'), ('The', 'concept'), ('concept', 'of'), ('of', 'wormholes'), ('wormholes', ','), (',', 'hypothetical'), ('hypothetical', 'tunnels'), ('tunnels', 'in'), ('in', 'spacetime'), ('spacetime', 'that'), ('that', 'could'), ('could', 'allow'), ('allow', 'for'), ('for', 'faster-than-light'), ('faster-than-light', 'travel'), ('travel', ','), (',', 'has'), ('has', 'captured'), ('captured', 'the'), ('the', 'imagination'), ('imagination', 'of'), ('of', 'science'), ('science', 'fiction'), ('fiction', 'writers'), ('writers', 'and'), ('and', 'physicists'), ('physicists', 'alike'), ('alike', '.'), ('.', 'The'), ('The', 'concept'), ('concept', 'of'), ('of', 'a'), ('a', 'space'), ('space', 'elevator'), ('elevator', ','), (',', 'a'), ('a', 'structure'), ('structure', 'extending'), ('extending', 'from'), ('from', 'Earth'), ('Earth', \"'s\"), (\"'s\", 'surface'), ('surface', 'into'), ('into', 'space'), ('space', ','), (',', 'has'), ('has', 'been'), ('been', 'proposed'), ('proposed', 'as'), ('as', 'a'), ('a', 'potential'), ('potential', 'means'), ('means', 'of'), ('of', 'cheap'), ('cheap', 'and'), ('and', 'efficient'), ('efficient', 'access'), ('access', 'to'), ('to', 'space'), ('space', '.'), ('.', 'The'), ('The', 'search'), ('search', 'for'), ('for', 'habitable'), ('habitable', 'exoplanets'), ('exoplanets', ','), (',', 'or'), ('or', 'those'), ('those', 'with'), ('with', 'conditions'), ('conditions', 'conducive'), ('conducive', 'to'), ('to', 'life'), ('life', 'as'), ('as', 'we'), ('we', 'know'), ('know', 'it'), ('it', ','), (',', 'is'), ('is', 'a'), ('a', 'primary'), ('primary', 'goal'), ('goal', 'of'), ('of', 'space'), ('space', 'telescopes'), ('telescopes', 'and'), ('and', 'future'), ('future', 'missions'), ('missions', '.'), ('.', 'The'), ('The', 'Kuiper'), ('Kuiper', 'Belt'), ('Belt', ','), (',', 'a'), ('a', 'region'), ('region', 'of'), ('of', 'icy'), ('icy', 'bodies'), ('bodies', 'beyond'), ('beyond', 'Neptune'), ('Neptune', \"'s\"), (\"'s\", 'orbit'), ('orbit', ','), (',', 'is'), ('is', 'home'), ('home', 'to'), ('to', 'dwarf'), ('dwarf', 'planets'), ('planets', 'such'), ('such', 'as'), ('as', 'Pluto'), ('Pluto', 'and'), ('and', 'Eris'), ('Eris', '.'), ('.', 'The'), ('The', 'concept'), ('concept', 'of'), ('of', 'panspermia'), ('panspermia', 'suggests'), ('suggests', 'that'), ('that', 'life'), ('life', 'may'), ('may', 'be'), ('be', 'distributed'), ('distributed', 'throughout'), ('throughout', 'the'), ('the', 'universe'), ('universe', 'via'), ('via', 'comets'), ('comets', ','), (',', 'asteroids'), ('asteroids', ','), (',', 'or'), ('or', 'other'), ('other', 'celestial'), ('celestial', 'bodies'), ('bodies', '.'), ('.', 'The'), ('The', 'study'), ('study', 'of'), ('of', 'cosmic'), ('cosmic', 'microwave'), ('microwave', 'background'), ('background', 'radiation'), ('radiation', 'provides'), ('provides', 'crucial'), ('crucial', 'insights'), ('insights', 'into'), ('into', 'the'), ('the', 'early'), ('early', 'universe'), ('universe', 'and'), ('and', 'the'), ('the', 'formation'), ('formation', 'of'), ('of', 'structures'), ('structures', 'within'), ('within', 'it'), ('it', '.'), ('.', 'Space'), ('Space', 'weather'), ('weather', ','), (',', 'including'), ('including', 'phenomena'), ('phenomena', 'such'), ('such', 'as'), ('as', 'solar'), ('solar', 'flares'), ('flares', 'and'), ('and', 'coronal'), ('coronal', 'mass'), ('mass', 'ejections'), ('ejections', ','), (',', 'can'), ('can', 'have'), ('have', 'significant'), ('significant', 'impacts'), ('impacts', 'on'), ('on', 'technology'), ('technology', 'and'), ('and', 'infrastructure'), ('infrastructure', 'on'), ('on', 'Earth'), ('Earth', '.'), ('.', 'The'), ('The', 'search'), ('search', 'for'), ('for', 'gravitational'), ('gravitational', 'waves'), ('waves', ','), (',', 'ripples'), ('ripples', 'in'), ('in', 'spacetime'), ('spacetime', 'caused'), ('caused', 'by'), ('by', 'cataclysmic'), ('cataclysmic', 'events'), ('events', 'such'), ('such', 'as'), ('as', 'black'), ('black', 'hole'), ('hole', 'mergers'), ('mergers', ','), (',', 'has'), ('has', 'opened'), ('opened', 'a'), ('a', 'new'), ('new', 'window'), ('window', 'into'), ('into', 'the'), ('the', 'universe'), ('universe', '.'), ('.', 'The'), ('The', 'concept'), ('concept', 'of'), ('of', 'terraforming'), ('terraforming', 'involves'), ('involves', 'modifying'), ('modifying', 'the'), ('the', 'environment'), ('environment', 'of'), ('of', 'another'), ('another', 'planet'), ('planet', 'to'), ('to', 'make'), ('make', 'it'), ('it', 'more'), ('more', 'Earth-like'), ('Earth-like', 'and'), ('and', 'suitable'), ('suitable', 'for'), ('for', 'human'), ('human', 'habitation'), ('habitation', '.'), ('.', 'The'), ('The', 'study'), ('study', 'of'), ('of', 'pulsars'), ('pulsars', ','), (',', 'rapidly'), ('rapidly', 'rotating'), ('rotating', 'neutron'), ('neutron', 'stars'), ('stars', 'that'), ('that', 'emit'), ('emit', 'beams'), ('beams', 'of'), ('of', 'radiation'), ('radiation', ','), (',', 'has'), ('has', 'provided'), ('provided', 'valuable'), ('valuable', 'insights'), ('insights', 'into'), ('into', 'the'), ('the', 'nature'), ('nature', 'of'), ('of', 'matter'), ('matter', 'and'), ('and', 'extreme'), ('extreme', 'physics'), ('physics', '.'), ('.', 'The'), ('The', 'concept'), ('concept', 'of'), ('of', 'the'), ('the', 'cosmic'), ('cosmic', 'microwave'), ('microwave', 'background'), ('background', ','), (',', 'a'), ('a', 'faint'), ('faint', 'glow'), ('glow', 'of'), ('of', 'radiation'), ('radiation', 'left'), ('left', 'over'), ('over', 'from'), ('from', 'the'), ('the', 'Big'), ('Big', 'Bang'), ('Bang', ','), (',', 'provides'), ('provides', 'crucial'), ('crucial', 'evidence'), ('evidence', 'for'), ('for', 'the'), ('the', 'hot'), ('hot', 'Big'), ('Big', 'Bang'), ('Bang', 'model'), ('model', 'of'), ('of', 'the'), ('the', 'universe'), ('universe', '.'), ('.', 'The'), ('The', 'study'), ('study', 'of'), ('of', 'gamma-ray'), ('gamma-ray', 'bursts'), ('bursts', ','), (',', 'the'), ('the', 'most'), ('most', 'energetic'), ('energetic', 'explosions'), ('explosions', 'in'), ('in', 'the'), ('the', 'universe'), ('universe', ','), (',', 'has'), ('has', 'led'), ('led', 'to'), ('to', 'advances'), ('advances', 'in'), ('in', 'our'), ('our', 'understanding'), ('understanding', 'of'), ('of', 'stellar'), ('stellar', 'evolution'), ('evolution', 'and'), ('and', 'the'), ('the', 'deaths'), ('deaths', 'of'), ('of', 'massive'), ('massive', 'stars'), ('stars', '.'), ('.', 'The'), ('The', 'concept'), ('concept', 'of'), ('of', 'a'), ('a', 'Dyson'), ('Dyson', 'sphere'), ('sphere', ','), (',', 'a'), ('a', 'hypothetical'), ('hypothetical', 'megastructure'), ('megastructure', 'that'), ('that', 'completely'), ('completely', 'surrounds'), ('surrounds', 'a'), ('a', 'star'), ('star', 'to'), ('to', 'capture'), ('capture', 'its'), ('its', 'energy'), ('energy', ','), (',', 'has'), ('has', 'been'), ('been', 'proposed'), ('proposed', 'as'), ('as', 'a'), ('a', 'potential'), ('potential', 'sign'), ('sign', 'of'), ('of', 'advanced'), ('advanced', 'alien'), ('alien', 'civilizations'), ('civilizations', '.'), ('.', 'The'), ('The', 'study'), ('study', 'of'), ('of', 'gravitational'), ('gravitational', 'lensing'), ('lensing', ','), (',', 'the'), ('the', 'bending'), ('bending', 'of'), ('of', 'light'), ('light', 'by'), ('by', 'massive'), ('massive', 'objects'), ('objects', ','), (',', 'allows'), ('allows', 'astronomers'), ('astronomers', 'to'), ('to', 'observe'), ('observe', 'distant'), ('distant', 'galaxies'), ('galaxies', 'and'), ('and', 'study'), ('study', 'the'), ('the', 'distribution'), ('distribution', 'of'), ('of', 'dark'), ('dark', 'matter'), ('matter', '.'), ('.', 'The'), ('The', 'concept'), ('concept', 'of'), ('of', 'a'), ('a', 'space'), ('space', 'colony'), ('colony', ','), (',', 'a'), ('a', 'self-sustaining'), ('self-sustaining', 'human'), ('human', 'settlement'), ('settlement', 'in'), ('in', 'space'), ('space', ','), (',', 'has'), ('has', 'been'), ('been', 'proposed'), ('proposed', 'as'), ('as', 'a'), ('a', 'long-term'), ('long-term', 'goal'), ('goal', 'for'), ('for', 'humanity'), ('humanity', \"'s\"), (\"'s\", 'expansion'), ('expansion', 'beyond'), ('beyond', 'Earth'), ('Earth', '.'), ('.', 'The'), ('The', 'study'), ('study', 'of'), ('of', 'cosmic'), ('cosmic', 'rays'), ('rays', ','), (',', 'high-energy'), ('high-energy', 'particles'), ('particles', 'originating'), ('originating', 'from'), ('from', 'sources'), ('sources', 'outside'), ('outside', 'the'), ('the', 'solar'), ('solar', 'system'), ('system', ','), (',', 'provides'), ('provides', 'valuable'), ('valuable', 'information'), ('information', 'about'), ('about', 'astrophysical'), ('astrophysical', 'processes'), ('processes', 'and'), ('and', 'the'), ('the', 'structure'), ('structure', 'of'), ('of', 'the'), ('the', 'galaxy'), ('galaxy', '.'), ('.', 'The'), ('The', 'concept'), ('concept', 'of'), ('of', 'space'), ('space', 'elevators'), ('elevators', ','), (',', 'structures'), ('structures', 'extending'), ('extending', 'from'), ('from', 'Earth'), ('Earth', \"'s\"), (\"'s\", 'surface'), ('surface', 'into'), ('into', 'space'), ('space', ','), (',', 'could'), ('could', 'potentially'), ('potentially', 'revolutionize'), ('revolutionize', 'space'), ('space', 'travel'), ('travel', 'by'), ('by', 'providing'), ('providing', 'a'), ('a', 'cheap'), ('cheap', 'and'), ('and', 'efficient'), ('efficient', 'means'), ('means', 'of'), ('of', 'reaching'), ('reaching', 'orbit'), ('orbit', '.'), ('.', 'The'), ('The', 'study'), ('study', 'of'), ('of', 'exoplanets'), ('exoplanets', ','), (',', 'planets'), ('planets', 'orbiting'), ('orbiting', 'stars'), ('stars', 'outside'), ('outside', 'our'), ('our', 'solar'), ('solar', 'system'), ('system', ','), (',', 'has'), ('has', 'revealed'), ('revealed', 'a'), ('a', 'diverse'), ('diverse', 'array'), ('array', 'of'), ('of', 'worlds'), ('worlds', ','), (',', 'some'), ('some', 'of'), ('of', 'which'), ('which', 'may'), ('may', 'harbor'), ('harbor', 'conditions'), ('conditions', 'suitable'), ('suitable', 'for'), ('for', 'life'), ('life', '.'), ('.', 'The'), ('The', 'concept'), ('concept', 'of'), ('of', 'a'), ('a', 'parallel'), ('parallel', 'universe'), ('universe', ','), (',', 'where'), ('where', 'multiple'), ('multiple', 'universes'), ('universes', 'exist'), ('exist', 'alongside'), ('alongside', 'our'), ('our', 'own'), ('own', ','), (',', 'is'), ('is', 'a'), ('a', 'topic'), ('topic', 'of'), ('of', 'speculation'), ('speculation', 'in'), ('in', 'cosmology'), ('cosmology', 'and'), ('and', 'theoretical'), ('theoretical', 'physics'), ('physics', '.'), ('.', 'The'), ('The', 'study'), ('study', 'of'), ('of', 'cosmic'), ('cosmic', 'inflation'), ('inflation', ','), (',', 'a'), ('a', 'rapid'), ('rapid', 'expansion'), ('expansion', 'of'), ('of', 'the'), ('the', 'universe'), ('universe', 'in'), ('in', 'the'), ('the', 'early'), ('early', 'moments'), ('moments', 'of'), ('of', 'the'), ('the', 'Big'), ('Big', 'Bang'), ('Bang', ','), (',', 'provides'), ('provides', 'insights'), ('insights', 'into'), ('into', 'the'), ('the', 'origin'), ('origin', 'and'), ('and', 'structure'), ('structure', 'of'), ('of', 'the'), ('the', 'cosmos'), ('cosmos', '.')]\n"
          ]
        }
      ]
    },
    {
      "cell_type": "code",
      "source": [
        "bigram_freq = {}\n",
        "\n",
        "for bigram in bigram_list:\n",
        "  if bigram not in bigram_freq.keys():\n",
        "    bigram_freq[bigram] =1\n",
        "  else:\n",
        "    bigram_freq[bigram] += 1\n",
        "\n",
        "print(bigram_freq)"
      ],
      "metadata": {
        "colab": {
          "base_uri": "https://localhost:8080/"
        },
        "id": "TGCjbIIULvLn",
        "outputId": "a2334c64-e276-435b-c804-9815f3790743"
      },
      "execution_count": null,
      "outputs": [
        {
          "output_type": "stream",
          "name": "stdout",
          "text": [
            "{('Space', ','): 1, (',', 'the'): 3, ('the', 'final'): 1, ('final', 'frontier'): 1, ('frontier', ','): 1, (',', 'has'): 12, ('has', 'always'): 1, ('always', 'fascinated'): 1, ('fascinated', 'humanity'): 1, ('humanity', 'with'): 1, ('with', 'its'): 1, ('its', 'vastness'): 1, ('vastness', 'and'): 1, ('and', 'mysteries'): 1, ('mysteries', '.'): 1, ('.', 'The'): 35, ('The', 'study'): 9, ('study', 'of'): 9, ('of', 'space'): 4, ('space', ','): 6, (',', 'also'): 1, ('also', 'known'): 1, ('known', 'as'): 1, ('as', 'astronomy'): 1, ('astronomy', ','): 1, (',', 'encompasses'): 1, ('encompasses', 'everything'): 1, ('everything', 'beyond'): 1, ('beyond', 'Earth'): 2, ('Earth', \"'s\"): 3, (\"'s\", 'atmosphere'): 2, ('atmosphere', ','): 1, (',', 'including'): 5, ('including', 'stars'): 1, ('stars', ','): 2, (',', 'planets'): 3, ('planets', ','): 2, (',', 'galaxies'): 1, ('galaxies', ','): 2, (',', 'and'): 5, ('and', 'more'): 1, ('more', '.'): 1, ('.', 'Space'): 6, ('Space', 'exploration'): 1, ('exploration', 'has'): 1, ('has', 'been'): 7, ('been', 'a'): 2, ('a', 'monumental'): 1, ('monumental', 'endeavor'): 1, ('endeavor', 'for'): 1, ('for', 'humanity'): 2, ('humanity', ','): 1, (',', 'pushing'): 1, ('pushing', 'the'): 1, ('the', 'boundaries'): 1, ('boundaries', 'of'): 1, ('of', 'our'): 1, ('our', 'understanding'): 5, ('understanding', 'and'): 1, ('and', 'technological'): 1, ('technological', 'capabilities'): 1, ('capabilities', '.'): 1, ('The', 'first'): 1, ('first', 'human'): 1, ('human', 'to'): 1, ('to', 'journey'): 2, ('journey', 'into'): 2, ('into', 'space'): 3, ('space', 'was'): 1, ('was', 'Yuri'): 1, ('Yuri', 'Gagarin'): 1, ('Gagarin', ','): 1, (',', 'a'): 9, ('a', 'Soviet'): 1, ('Soviet', 'cosmonaut'): 1, ('cosmonaut', ','): 1, (',', 'who'): 1, ('who', 'orbited'): 1, ('orbited', 'the'): 1, ('the', 'Earth'): 1, ('Earth', 'aboard'): 1, ('aboard', 'Vostok'): 1, ('Vostok', '1'): 1, ('1', 'on'): 1, ('on', 'April'): 1, ('April', '12'): 1, ('12', ','): 1, (',', '1961'): 1, ('1961', '.'): 1, ('.', 'Since'): 1, ('Since', 'then'): 1, ('then', ','): 1, (',', 'space'): 1, ('space', 'agencies'): 1, ('agencies', 'from'): 1, ('from', 'around'): 1, ('around', 'the'): 1, ('the', 'world'): 1, ('world', ','): 1, ('including', 'NASA'): 1, ('NASA', ','): 1, (',', 'ESA'): 1, ('ESA', ','): 1, (',', 'Roscosmos'): 1, ('Roscosmos', ','): 1, ('and', 'others'): 1, ('others', ','): 1, (',', 'have'): 3, ('have', 'sent'): 1, ('sent', 'astronauts'): 1, ('astronauts', 'and'): 1, ('and', 'spacecraft'): 1, ('spacecraft', 'to'): 1, ('to', 'explore'): 1, ('explore', 'the'): 1, ('the', 'cosmos'): 2, ('cosmos', '.'): 2, ('The', 'Apollo'): 1, ('Apollo', 'missions'): 1, ('missions', ','): 1, (',', 'notably'): 1, ('notably', 'Apollo'): 1, ('Apollo', '11'): 1, ('11', ','): 1, (',', 'landed'): 1, ('landed', 'the'): 1, ('the', 'first'): 1, ('first', 'humans'): 1, ('humans', 'on'): 1, ('on', 'the'): 2, ('the', 'Moon'): 1, ('Moon', 'in'): 1, ('in', '1969'): 1, ('1969', ','): 1, (',', 'with'): 4, ('with', 'Neil'): 1, ('Neil', 'Armstrong'): 1, ('Armstrong', 'and'): 1, ('and', 'Buzz'): 1, ('Buzz', 'Aldrin'): 1, ('Aldrin', 'taking'): 1, ('taking', 'historic'): 1, ('historic', 'steps'): 1, ('steps', 'on'): 1, ('on', 'its'): 1, ('its', 'surface'): 2, ('surface', '.'): 1, ('Space', 'telescopes'): 1, ('telescopes', ','): 1, (',', 'such'): 2, ('such', 'as'): 5, ('as', 'the'): 1, ('the', 'Hubble'): 1, ('Hubble', 'Space'): 1, ('Space', 'Telescope'): 2, ('Telescope', ','): 2, ('have', 'revolutionized'): 1, ('revolutionized', 'our'): 2, ('understanding', 'of'): 4, ('of', 'the'): 14, ('the', 'universe'): 9, ('universe', 'by'): 1, ('by', 'capturing'): 1, ('capturing', 'breathtaking'): 1, ('breathtaking', 'images'): 1, ('images', 'of'): 1, ('of', 'distant'): 1, ('distant', 'galaxies'): 2, ('galaxies', 'and'): 2, ('and', 'nebulae'): 1, ('nebulae', '.'): 1, ('The', 'International'): 1, ('International', 'Space'): 1, ('Space', 'Station'): 1, ('Station', '('): 1, ('(', 'ISS'): 1, ('ISS', ')'): 1, (')', 'serves'): 1, ('serves', 'as'): 1, ('as', 'a'): 6, ('a', 'collaborative'): 1, ('collaborative', 'space'): 1, ('space', 'laboratory'): 1, ('laboratory', 'where'): 1, ('where', 'astronauts'): 1, ('astronauts', 'conduct'): 1, ('conduct', 'experiments'): 1, ('experiments', 'in'): 1, ('in', 'microgravity'): 1, ('microgravity', '.'): 1, ('.', 'Mars'): 1, ('Mars', 'has'): 1, ('a', 'focal'): 1, ('focal', 'point'): 1, ('point', 'for'): 1, ('for', 'space'): 1, ('space', 'exploration'): 2, ('exploration', ','): 2, ('with', 'numerous'): 1, ('numerous', 'missions'): 1, ('missions', 'sent'): 1, ('sent', 'to'): 1, ('to', 'study'): 1, ('study', 'its'): 1, ('surface', 'and'): 1, ('and', 'search'): 1, ('search', 'for'): 4, ('for', 'signs'): 1, ('signs', 'of'): 2, ('of', 'past'): 1, ('past', 'or'): 1, ('or', 'present'): 1, ('present', 'life'): 1, ('life', '.'): 3, ('The', 'search'): 3, ('for', 'extraterrestrial'): 1, ('extraterrestrial', 'life'): 1, ('life', ','): 1, (',', 'or'): 3, ('or', 'astrobiology'): 1, ('astrobiology', ','): 1, (',', 'is'): 6, ('is', 'a'): 5, ('a', 'fundamental'): 1, ('fundamental', 'question'): 1, ('question', 'in'): 1, ('in', 'space'): 3, ('with', 'missions'): 1, ('missions', 'like'): 1, ('like', 'the'): 1, ('the', 'Mars'): 1, ('Mars', 'rovers'): 1, ('rovers', 'seeking'): 1, ('seeking', 'answers'): 1, ('answers', '.'): 1, ('.', 'Black'): 1, ('Black', 'holes'): 1, ('holes', ','): 1, (',', 'massive'): 1, ('massive', 'objects'): 2, ('objects', 'with'): 1, ('with', 'gravity'): 1, ('gravity', 'so'): 1, ('so', 'strong'): 1, ('strong', 'that'): 1, ('that', 'not'): 1, ('not', 'even'): 1, ('even', 'light'): 1, ('light', 'can'): 1, ('can', 'escape'): 1, ('escape', ','): 1, (',', 'are'): 1, ('are', 'among'): 1, ('among', 'the'): 1, ('the', 'most'): 3, ('most', 'intriguing'): 1, ('intriguing', 'phenomena'): 1, ('phenomena', 'in'): 1, ('space', '.'): 2, ('The', 'theory'): 1, ('theory', 'of'): 2, ('of', 'relativity'): 2, ('relativity', ','): 2, (',', 'proposed'): 1, ('proposed', 'by'): 1, ('by', 'Albert'): 1, ('Albert', 'Einstein'): 1, ('Einstein', ','): 1, (',', 'revolutionized'): 1, (',', 'time'): 1, ('time', ','): 1, ('and', 'gravity'): 1, ('gravity', '.'): 1, ('Space', 'travel'): 1, ('travel', 'presents'): 1, ('presents', 'numerous'): 1, ('numerous', 'challenges'): 1, ('challenges', ','): 1, ('including', 'radiation'): 1, ('radiation', 'exposure'): 1, ('exposure', ','): 1, (',', 'microgravity'): 1, ('microgravity', 'effects'): 1, ('effects', 'on'): 1, ('the', 'human'): 1, ('human', 'body'): 1, ('body', ','): 1, ('and', 'the'): 5, ('the', 'need'): 1, ('need', 'for'): 1, ('for', 'life'): 2, ('life', 'support'): 1, ('support', 'systems'): 1, ('systems', '.'): 1, ('The', 'James'): 1, ('James', 'Webb'): 1, ('Webb', 'Space'): 1, (',', 'set'): 1, ('set', 'to'): 1, ('to', 'launch'): 1, ('launch', 'in'): 1, ('in', 'the'): 5, ('the', 'near'): 1, ('near', 'future'): 1, ('future', ','): 1, (',', 'promises'): 1, ('promises', 'to'): 1, ('to', 'revolutionize'): 1, ('revolutionize', 'our'): 1, ('the', 'early'): 4, ('early', 'universe'): 2, ('universe', 'and'): 2, ('the', 'formation'): 3, ('formation', 'of'): 3, ('of', 'galaxies'): 2, ('galaxies', '.'): 1, ('The', 'Voyager'): 1, ('Voyager', 'probes'): 1, ('probes', ','): 1, (',', 'launched'): 1, ('launched', 'in'): 1, ('in', '1977'): 1, ('1977', ','): 1, (',', 'continue'): 1, ('continue', 'to'): 1, ('into', 'interstellar'): 1, ('interstellar', 'space'): 1, (',', 'carrying'): 1, ('carrying', 'messages'): 1, ('messages', 'from'): 1, ('from', 'humanity'): 1, ('humanity', 'in'): 2, ('the', 'form'): 1, ('form', 'of'): 1, ('the', 'Golden'): 1, ('Golden', 'Record'): 1, ('Record', '.'): 1, ('Space', 'tourism'): 1, ('tourism', 'is'): 1, ('is', 'an'): 1, ('an', 'emerging'): 1, ('emerging', 'industry'): 1, ('industry', ','): 1, ('with', 'companies'): 1, ('companies', 'like'): 1, ('like', 'SpaceX'): 1, ('SpaceX', 'and'): 1, ('and', 'Blue'): 1, ('Blue', 'Origin'): 1, ('Origin', 'offering'): 1, ('offering', 'the'): 1, ('the', 'opportunity'): 1, ('opportunity', 'for'): 1, ('for', 'civilians'): 1, ('civilians', 'to'): 1, ('to', 'experience'): 1, ('experience', 'spaceflight'): 1, ('spaceflight', '.'): 1, ('.', 'Colonizing'): 1, ('Colonizing', 'other'): 1, ('other', 'planets'): 1, ('as', 'Mars'): 1, ('Mars', ','): 1, ('been', 'proposed'): 4, ('proposed', 'as'): 4, ('a', 'potential'): 3, ('potential', 'solution'): 1, ('solution', 'to'): 1, ('to', 'ensure'): 1, ('ensure', 'the'): 1, ('the', 'survival'): 1, ('survival', 'of'): 1, ('of', 'humanity'): 1, ('the', 'event'): 1, ('event', 'of'): 1, ('of', 'a'): 6, ('a', 'catastrophic'): 1, ('catastrophic', 'event'): 1, ('event', 'on'): 1, ('on', 'Earth'): 2, ('Earth', '.'): 4, ('The', 'Fermi'): 1, ('Fermi', 'Paradox'): 1, ('Paradox', 'poses'): 1, ('poses', 'the'): 1, ('the', 'question'): 1, ('question', 'of'): 1, ('of', 'why'): 1, ('why', 'we'): 1, ('we', 'have'): 1, ('have', 'not'): 1, ('not', 'yet'): 1, ('yet', 'detected'): 1, ('detected', 'signs'): 1, ('of', 'extraterrestrial'): 2, ('extraterrestrial', 'civilizations'): 2, ('civilizations', ','): 1, (',', 'given'): 1, ('given', 'the'): 1, ('the', 'vastness'): 1, ('vastness', 'of'): 1, ('universe', '.'): 3, ('The', 'concept'): 11, ('concept', 'of'): 11, ('a', 'multiverse'): 1, ('multiverse', ','): 1, (',', 'where'): 2, ('where', 'our'): 1, ('our', 'universe'): 1, ('universe', 'is'): 1, ('is', 'just'): 1, ('just', 'one'): 1, ('one', 'of'): 2, ('of', 'many'): 1, ('many', 'parallel'): 1, ('parallel', 'universes'): 1, ('universes', ','): 1, ('a', 'topic'): 2, ('topic', 'of'): 2, ('of', 'speculation'): 2, ('speculation', 'among'): 1, ('among', 'physicists'): 1, ('physicists', 'and'): 1, ('and', 'cosmologists'): 1, ('cosmologists', '.'): 1, ('The', 'Big'): 1, ('Big', 'Bang'): 4, ('Bang', 'theory'): 1, ('theory', 'describes'): 1, ('describes', 'the'): 1, ('the', 'origin'): 2, ('origin', 'of'): 1, ('universe', 'as'): 1, ('a', 'rapid'): 2, ('rapid', 'expansion'): 2, ('expansion', 'from'): 1, ('from', 'a'): 1, ('a', 'singularity'): 1, ('singularity', ','): 1, (',', 'leading'): 1, ('leading', 'to'): 1, ('to', 'the'): 1, (',', 'stars'): 1, ('and', 'planets'): 1, ('planets', '.'): 1, ('.', 'Dark'): 1, ('Dark', 'matter'): 1, ('matter', 'and'): 2, ('and', 'dark'): 1, ('dark', 'energy'): 1, ('energy', ','): 2, (',', 'which'): 1, ('which', 'make'): 1, ('make', 'up'): 1, ('up', 'the'): 1, ('the', 'majority'): 1, ('majority', 'of'): 1, ('universe', \"'s\"): 1, (\"'s\", 'mass-energy'): 1, ('mass-energy', 'content'): 1, ('content', ','): 1, (',', 'remain'): 1, ('remain', 'elusive'): 1, ('elusive', 'and'): 1, ('and', 'mysterious'): 1, ('mysterious', 'to'): 1, ('to', 'scientists'): 1, ('scientists', '.'): 1, ('Space', 'debris'): 1, ('debris', ','): 1, ('including', 'defunct'): 1, ('defunct', 'satellites'): 1, ('satellites', 'and'): 1, ('and', 'spent'): 1, ('spent', 'rocket'): 1, ('rocket', 'stages'): 1, ('stages', ','): 1, (',', 'poses'): 1, ('poses', 'a'): 1, ('a', 'growing'): 1, ('growing', 'threat'): 1, ('threat', 'to'): 1, ('to', 'spacecraft'): 1, ('spacecraft', 'and'): 1, ('and', 'satellites'): 1, ('satellites', 'in'): 1, ('in', 'orbit'): 1, ('orbit', 'around'): 1, ('around', 'Earth'): 1, ('.', 'Asteroids'): 1, ('Asteroids', 'and'): 1, ('and', 'comets'): 1, ('comets', ','): 2, (',', 'remnants'): 1, ('remnants', 'from'): 1, ('from', 'the'): 2, ('early', 'solar'): 1, ('solar', 'system'): 4, ('system', ','): 4, ('have', 'the'): 1, ('the', 'potential'): 1, ('potential', 'to'): 1, ('to', 'impact'): 1, ('impact', 'Earth'): 1, ('Earth', 'and'): 1, ('and', 'cause'): 1, ('cause', 'significant'): 1, ('significant', 'damage'): 1, ('damage', '.'): 1, ('of', 'exoplanets'): 2, ('exoplanets', ','): 3, ('planets', 'orbiting'): 2, ('orbiting', 'stars'): 2, ('stars', 'outside'): 2, ('outside', 'our'): 2, ('our', 'solar'): 2, ('has', 'revealed'): 2, ('revealed', 'a'): 2, ('a', 'diverse'): 2, ('diverse', 'array'): 2, ('array', 'of'): 2, ('of', 'worlds'): 2, ('worlds', ','): 2, (',', 'some'): 2, ('some', 'of'): 2, ('of', 'which'): 2, ('which', 'may'): 2, ('may', 'be'): 2, ('be', 'capable'): 1, ('capable', 'of'): 2, ('of', 'supporting'): 1, ('supporting', 'life'): 1, ('of', 'time'): 1, ('time', 'dilation'): 1, ('dilation', ','): 1, (',', 'as'): 1, ('as', 'predicted'): 1, ('predicted', 'by'): 1, ('by', 'Einstein'): 1, ('Einstein', \"'s\"): 1, (\"'s\", 'theory'): 1, (',', 'means'): 1, ('means', 'that'): 1, ('that', 'time'): 1, ('time', 'passes'): 1, ('passes', 'differently'): 1, ('differently', 'for'): 1, ('for', 'observers'): 1, ('observers', 'in'): 1, ('in', 'different'): 1, ('different', 'gravitational'): 1, ('gravitational', 'fields'): 1, ('fields', 'or'): 1, ('or', 'traveling'): 1, ('traveling', 'at'): 1, ('at', 'different'): 1, ('different', 'speeds'): 1, ('speeds', '.'): 1, ('The', 'Great'): 1, ('Great', 'Red'): 1, ('Red', 'Spot'): 1, ('Spot', ','): 1, ('a', 'massive'): 1, ('massive', 'storm'): 1, ('storm', 'on'): 1, ('on', 'Jupiter'): 1, ('Jupiter', ','): 1, ('been', 'observed'): 1, ('observed', 'for'): 1, ('for', 'centuries'): 1, ('centuries', 'and'): 1, ('and', 'is'): 1, ('is', 'one'): 1, ('most', 'prominent'): 1, ('prominent', 'features'): 1, ('features', 'of'): 1, ('the', 'gas'): 1, ('gas', 'giant'): 1, ('giant', \"'s\"): 1, ('atmosphere', '.'): 1, ('The', 'Oort'): 1, ('Oort', 'Cloud'): 1, ('Cloud', ','): 1, ('a', 'hypothetical'): 2, ('hypothetical', 'region'): 1, ('region', 'of'): 2, ('of', 'icy'): 2, ('icy', 'bodies'): 2, ('bodies', 'located'): 1, ('located', 'far'): 1, ('far', 'beyond'): 1, ('beyond', 'the'): 1, ('the', 'orbit'): 1, ('orbit', 'of'): 1, ('of', 'Pluto'): 1, ('Pluto', ','): 1, ('is', 'thought'): 1, ('thought', 'to'): 1, ('to', 'be'): 1, ('be', 'the'): 1, ('the', 'source'): 1, ('source', 'of'): 1, ('of', 'long-period'): 1, ('long-period', 'comets'): 1, ('comets', '.'): 1, ('The', 'Drake'): 1, ('Drake', 'Equation'): 1, ('Equation', 'is'): 1, ('a', 'probabilistic'): 1, ('probabilistic', 'approach'): 1, ('approach', 'to'): 1, ('to', 'estimating'): 1, ('estimating', 'the'): 1, ('the', 'number'): 1, ('number', 'of'): 1, ('civilizations', 'capable'): 1, ('of', 'communicating'): 1, ('communicating', 'with'): 1, ('with', 'us'): 1, ('us', 'in'): 1, ('in', 'our'): 2, ('our', 'galaxy'): 1, ('galaxy', '.'): 2, ('of', 'wormholes'): 1, ('wormholes', ','): 1, (',', 'hypothetical'): 1, ('hypothetical', 'tunnels'): 1, ('tunnels', 'in'): 1, ('in', 'spacetime'): 2, ('spacetime', 'that'): 1, ('that', 'could'): 1, ('could', 'allow'): 1, ('allow', 'for'): 1, ('for', 'faster-than-light'): 1, ('faster-than-light', 'travel'): 1, ('travel', ','): 1, ('has', 'captured'): 1, ('captured', 'the'): 1, ('the', 'imagination'): 1, ('imagination', 'of'): 1, ('of', 'science'): 1, ('science', 'fiction'): 1, ('fiction', 'writers'): 1, ('writers', 'and'): 1, ('and', 'physicists'): 1, ('physicists', 'alike'): 1, ('alike', '.'): 1, ('a', 'space'): 2, ('space', 'elevator'): 1, ('elevator', ','): 1, ('a', 'structure'): 1, ('structure', 'extending'): 1, ('extending', 'from'): 2, ('from', 'Earth'): 2, (\"'s\", 'surface'): 2, ('surface', 'into'): 2, ('potential', 'means'): 1, ('means', 'of'): 2, ('of', 'cheap'): 1, ('cheap', 'and'): 2, ('and', 'efficient'): 2, ('efficient', 'access'): 1, ('access', 'to'): 1, ('to', 'space'): 1, ('for', 'habitable'): 1, ('habitable', 'exoplanets'): 1, ('or', 'those'): 1, ('those', 'with'): 1, ('with', 'conditions'): 1, ('conditions', 'conducive'): 1, ('conducive', 'to'): 1, ('to', 'life'): 1, ('life', 'as'): 1, ('as', 'we'): 1, ('we', 'know'): 1, ('know', 'it'): 1, ('it', ','): 1, ('a', 'primary'): 1, ('primary', 'goal'): 1, ('goal', 'of'): 1, ('space', 'telescopes'): 1, ('telescopes', 'and'): 1, ('and', 'future'): 1, ('future', 'missions'): 1, ('missions', '.'): 1, ('The', 'Kuiper'): 1, ('Kuiper', 'Belt'): 1, ('Belt', ','): 1, ('a', 'region'): 1, ('bodies', 'beyond'): 1, ('beyond', 'Neptune'): 1, ('Neptune', \"'s\"): 1, (\"'s\", 'orbit'): 1, ('orbit', ','): 1, ('is', 'home'): 1, ('home', 'to'): 1, ('to', 'dwarf'): 1, ('dwarf', 'planets'): 1, ('planets', 'such'): 1, ('as', 'Pluto'): 1, ('Pluto', 'and'): 1, ('and', 'Eris'): 1, ('Eris', '.'): 1, ('of', 'panspermia'): 1, ('panspermia', 'suggests'): 1, ('suggests', 'that'): 1, ('that', 'life'): 1, ('life', 'may'): 1, ('be', 'distributed'): 1, ('distributed', 'throughout'): 1, ('throughout', 'the'): 1, ('universe', 'via'): 1, ('via', 'comets'): 1, (',', 'asteroids'): 1, ('asteroids', ','): 1, ('or', 'other'): 1, ('other', 'celestial'): 1, ('celestial', 'bodies'): 1, ('bodies', '.'): 1, ('of', 'cosmic'): 3, ('cosmic', 'microwave'): 2, ('microwave', 'background'): 2, ('background', 'radiation'): 1, ('radiation', 'provides'): 1, ('provides', 'crucial'): 2, ('crucial', 'insights'): 1, ('insights', 'into'): 3, ('into', 'the'): 4, ('of', 'structures'): 1, ('structures', 'within'): 1, ('within', 'it'): 1, ('it', '.'): 1, ('Space', 'weather'): 1, ('weather', ','): 1, ('including', 'phenomena'): 1, ('phenomena', 'such'): 1, ('as', 'solar'): 1, ('solar', 'flares'): 1, ('flares', 'and'): 1, ('and', 'coronal'): 1, ('coronal', 'mass'): 1, ('mass', 'ejections'): 1, ('ejections', ','): 1, (',', 'can'): 1, ('can', 'have'): 1, ('have', 'significant'): 1, ('significant', 'impacts'): 1, ('impacts', 'on'): 1, ('on', 'technology'): 1, ('technology', 'and'): 1, ('and', 'infrastructure'): 1, ('infrastructure', 'on'): 1, ('for', 'gravitational'): 1, ('gravitational', 'waves'): 1, ('waves', ','): 1, (',', 'ripples'): 1, ('ripples', 'in'): 1, ('spacetime', 'caused'): 1, ('caused', 'by'): 1, ('by', 'cataclysmic'): 1, ('cataclysmic', 'events'): 1, ('events', 'such'): 1, ('as', 'black'): 1, ('black', 'hole'): 1, ('hole', 'mergers'): 1, ('mergers', ','): 1, ('has', 'opened'): 1, ('opened', 'a'): 1, ('a', 'new'): 1, ('new', 'window'): 1, ('window', 'into'): 1, ('of', 'terraforming'): 1, ('terraforming', 'involves'): 1, ('involves', 'modifying'): 1, ('modifying', 'the'): 1, ('the', 'environment'): 1, ('environment', 'of'): 1, ('of', 'another'): 1, ('another', 'planet'): 1, ('planet', 'to'): 1, ('to', 'make'): 1, ('make', 'it'): 1, ('it', 'more'): 1, ('more', 'Earth-like'): 1, ('Earth-like', 'and'): 1, ('and', 'suitable'): 1, ('suitable', 'for'): 2, ('for', 'human'): 1, ('human', 'habitation'): 1, ('habitation', '.'): 1, ('of', 'pulsars'): 1, ('pulsars', ','): 1, (',', 'rapidly'): 1, ('rapidly', 'rotating'): 1, ('rotating', 'neutron'): 1, ('neutron', 'stars'): 1, ('stars', 'that'): 1, ('that', 'emit'): 1, ('emit', 'beams'): 1, ('beams', 'of'): 1, ('of', 'radiation'): 2, ('radiation', ','): 1, ('has', 'provided'): 1, ('provided', 'valuable'): 1, ('valuable', 'insights'): 1, ('the', 'nature'): 1, ('nature', 'of'): 1, ('of', 'matter'): 1, ('and', 'extreme'): 1, ('extreme', 'physics'): 1, ('physics', '.'): 2, ('the', 'cosmic'): 1, ('background', ','): 1, ('a', 'faint'): 1, ('faint', 'glow'): 1, ('glow', 'of'): 1, ('radiation', 'left'): 1, ('left', 'over'): 1, ('over', 'from'): 1, ('the', 'Big'): 2, ('Bang', ','): 2, (',', 'provides'): 3, ('crucial', 'evidence'): 1, ('evidence', 'for'): 1, ('for', 'the'): 1, ('the', 'hot'): 1, ('hot', 'Big'): 1, ('Bang', 'model'): 1, ('model', 'of'): 1, ('of', 'gamma-ray'): 1, ('gamma-ray', 'bursts'): 1, ('bursts', ','): 1, ('most', 'energetic'): 1, ('energetic', 'explosions'): 1, ('explosions', 'in'): 1, ('universe', ','): 2, ('has', 'led'): 1, ('led', 'to'): 1, ('to', 'advances'): 1, ('advances', 'in'): 1, ('of', 'stellar'): 1, ('stellar', 'evolution'): 1, ('evolution', 'and'): 1, ('the', 'deaths'): 1, ('deaths', 'of'): 1, ('of', 'massive'): 1, ('massive', 'stars'): 1, ('stars', '.'): 1, ('a', 'Dyson'): 1, ('Dyson', 'sphere'): 1, ('sphere', ','): 1, ('hypothetical', 'megastructure'): 1, ('megastructure', 'that'): 1, ('that', 'completely'): 1, ('completely', 'surrounds'): 1, ('surrounds', 'a'): 1, ('a', 'star'): 1, ('star', 'to'): 1, ('to', 'capture'): 1, ('capture', 'its'): 1, ('its', 'energy'): 1, ('potential', 'sign'): 1, ('sign', 'of'): 1, ('of', 'advanced'): 1, ('advanced', 'alien'): 1, ('alien', 'civilizations'): 1, ('civilizations', '.'): 1, ('of', 'gravitational'): 1, ('gravitational', 'lensing'): 1, ('lensing', ','): 1, ('the', 'bending'): 1, ('bending', 'of'): 1, ('of', 'light'): 1, ('light', 'by'): 1, ('by', 'massive'): 1, ('objects', ','): 1, (',', 'allows'): 1, ('allows', 'astronomers'): 1, ('astronomers', 'to'): 1, ('to', 'observe'): 1, ('observe', 'distant'): 1, ('and', 'study'): 1, ('study', 'the'): 1, ('the', 'distribution'): 1, ('distribution', 'of'): 1, ('of', 'dark'): 1, ('dark', 'matter'): 1, ('matter', '.'): 1, ('space', 'colony'): 1, ('colony', ','): 1, ('a', 'self-sustaining'): 1, ('self-sustaining', 'human'): 1, ('human', 'settlement'): 1, ('settlement', 'in'): 1, ('a', 'long-term'): 1, ('long-term', 'goal'): 1, ('goal', 'for'): 1, ('humanity', \"'s\"): 1, (\"'s\", 'expansion'): 1, ('expansion', 'beyond'): 1, ('cosmic', 'rays'): 1, ('rays', ','): 1, (',', 'high-energy'): 1, ('high-energy', 'particles'): 1, ('particles', 'originating'): 1, ('originating', 'from'): 1, ('from', 'sources'): 1, ('sources', 'outside'): 1, ('outside', 'the'): 1, ('the', 'solar'): 1, ('provides', 'valuable'): 1, ('valuable', 'information'): 1, ('information', 'about'): 1, ('about', 'astrophysical'): 1, ('astrophysical', 'processes'): 1, ('processes', 'and'): 1, ('the', 'structure'): 1, ('structure', 'of'): 2, ('the', 'galaxy'): 1, ('space', 'elevators'): 1, ('elevators', ','): 1, (',', 'structures'): 1, ('structures', 'extending'): 1, (',', 'could'): 1, ('could', 'potentially'): 1, ('potentially', 'revolutionize'): 1, ('revolutionize', 'space'): 1, ('space', 'travel'): 1, ('travel', 'by'): 1, ('by', 'providing'): 1, ('providing', 'a'): 1, ('a', 'cheap'): 1, ('efficient', 'means'): 1, ('of', 'reaching'): 1, ('reaching', 'orbit'): 1, ('orbit', '.'): 1, ('may', 'harbor'): 1, ('harbor', 'conditions'): 1, ('conditions', 'suitable'): 1, ('a', 'parallel'): 1, ('parallel', 'universe'): 1, ('where', 'multiple'): 1, ('multiple', 'universes'): 1, ('universes', 'exist'): 1, ('exist', 'alongside'): 1, ('alongside', 'our'): 1, ('our', 'own'): 1, ('own', ','): 1, ('speculation', 'in'): 1, ('in', 'cosmology'): 1, ('cosmology', 'and'): 1, ('and', 'theoretical'): 1, ('theoretical', 'physics'): 1, ('cosmic', 'inflation'): 1, ('inflation', ','): 1, ('expansion', 'of'): 1, ('universe', 'in'): 1, ('early', 'moments'): 1, ('moments', 'of'): 1, ('provides', 'insights'): 1, ('origin', 'and'): 1, ('and', 'structure'): 1}\n"
          ]
        }
      ]
    },
    {
      "cell_type": "code",
      "source": [
        "def suggest(userInput,bigram_freq,frequency):\n",
        "  lastWord = userInput.split()[-1]\n",
        "  possibleWords = {}\n",
        "  for bigram in bigram_freq.keys():\n",
        "    if bigram[0] == lastWord:\n",
        "      possibleWords[bigram[1]] = bigram_freq[bigram]/frequency[bigram[0]]\n",
        "  return possibleWords"
      ],
      "metadata": {
        "id": "htLIQwjALxYx"
      },
      "execution_count": null,
      "outputs": []
    },
    {
      "cell_type": "code",
      "source": [
        "words = suggest('Ronaldo became',bigram_freq,frequency)\n",
        "print(words)"
      ],
      "metadata": {
        "id": "wW_D0iRJORO2",
        "colab": {
          "base_uri": "https://localhost:8080/"
        },
        "outputId": "60c9bd39-734f-4b2a-920f-47ff59e8bf0b"
      },
      "execution_count": null,
      "outputs": [
        {
          "output_type": "stream",
          "name": "stdout",
          "text": [
            "{}\n"
          ]
        }
      ]
    },
    {
      "cell_type": "code",
      "source": [
        "words = suggest('Space',bigram_freq,frequency)"
      ],
      "metadata": {
        "id": "CLNvDB2TZAyJ"
      },
      "execution_count": null,
      "outputs": []
    },
    {
      "cell_type": "code",
      "source": [
        "print(words)"
      ],
      "metadata": {
        "colab": {
          "base_uri": "https://localhost:8080/"
        },
        "id": "Jyoj7yrCOcTt",
        "outputId": "c86fec7d-46e0-4b86-d3d7-0281b6f5e4c1"
      },
      "execution_count": null,
      "outputs": [
        {
          "output_type": "stream",
          "name": "stdout",
          "text": [
            "{',': 0.1, 'exploration': 0.1, 'telescopes': 0.1, 'Telescope': 0.2, 'Station': 0.1, 'travel': 0.1, 'tourism': 0.1, 'debris': 0.1, 'weather': 0.1}\n"
          ]
        }
      ]
    },
    {
      "cell_type": "code",
      "source": [],
      "metadata": {
        "id": "dQ8va6KxO-rf"
      },
      "execution_count": null,
      "outputs": []
    },
    {
      "cell_type": "code",
      "source": [
        "def generate_sentence(keywords, bigram_freq, frequency):\n",
        "    suggested_word = suggest(keywords, bigram_freq, frequency)\n",
        "    if suggested_word:\n",
        "        curr_prob = 0\n",
        "        next_word = ''\n",
        "        for i in suggested_word.keys():\n",
        "          if suggested_word[i] > curr_prob:\n",
        "            next_word = i\n",
        "        return keywords + ' ' + next_word\n",
        "    else:\n",
        "        return keywords"
      ],
      "metadata": {
        "id": "b-_D-Ejcsm_P"
      },
      "execution_count": null,
      "outputs": []
    },
    {
      "cell_type": "code",
      "source": [
        "keywords = 'Ronaldo became'\n",
        "num_sentences = 10\n",
        "for _ in range(num_sentences):\n",
        "    keywords = generate_sentence(keywords, bigram_freq, frequency)\n",
        "\n",
        "print(\"Sentence:\", keywords)"
      ],
      "metadata": {
        "id": "CG7sYTTP9UFO",
        "colab": {
          "base_uri": "https://localhost:8080/"
        },
        "outputId": "992056c9-db32-4cff-a115-edfd529fadcb"
      },
      "execution_count": null,
      "outputs": [
        {
          "output_type": "stream",
          "name": "stdout",
          "text": [
            "Sentence: Ronaldo became\n"
          ]
        }
      ]
    },
    {
      "cell_type": "code",
      "source": [
        "keywords = 'He'\n",
        "num_sentences = 3\n",
        "for _ in range(num_sentences):\n",
        "    keywords = generate_sentence(keywords, bigram_freq, frequency)\n",
        "print(\"Sentence:\", keywords)"
      ],
      "metadata": {
        "id": "OCeNI7lfsSBE",
        "colab": {
          "base_uri": "https://localhost:8080/"
        },
        "outputId": "996bfab9-b68d-4bbd-8012-1e11a75022ef"
      },
      "execution_count": null,
      "outputs": [
        {
          "output_type": "stream",
          "name": "stdout",
          "text": [
            "Sentence: He\n"
          ]
        }
      ]
    },
    {
      "cell_type": "code",
      "source": [
        "keywords = 'Ronaldos Ballon'\n",
        "num_sentences = 4\n",
        "for _ in range(num_sentences):\n",
        "    keywords = generate_sentence(keywords, bigram_freq, frequency)\n",
        "print(\"Sentence:\", keywords)"
      ],
      "metadata": {
        "colab": {
          "base_uri": "https://localhost:8080/"
        },
        "id": "eJ_oUD7zXKCS",
        "outputId": "aa46b836-d913-49ae-bdc7-c562d7792862"
      },
      "execution_count": null,
      "outputs": [
        {
          "output_type": "stream",
          "name": "stdout",
          "text": [
            "Sentence: Ronaldos Ballon\n"
          ]
        }
      ]
    },
    {
      "cell_type": "code",
      "source": [
        "keywords = 'Voyager'\n",
        "num_sentences = 5\n",
        "for _ in range(num_sentences):\n",
        "    keywords = generate_sentence(keywords, bigram_freq, frequency)\n",
        "print(\"Sentence:\", keywords)"
      ],
      "metadata": {
        "colab": {
          "base_uri": "https://localhost:8080/"
        },
        "id": "T1VSr9tgXR2A",
        "outputId": "636d131a-46e9-43f2-9789-c277962a329f"
      },
      "execution_count": null,
      "outputs": [
        {
          "output_type": "stream",
          "name": "stdout",
          "text": [
            "Sentence: Voyager probes , could potentially revolutionize\n"
          ]
        }
      ]
    },
    {
      "cell_type": "code",
      "source": [],
      "metadata": {
        "id": "BkYdtSuoYanX"
      },
      "execution_count": null,
      "outputs": []
    }
  ]
}